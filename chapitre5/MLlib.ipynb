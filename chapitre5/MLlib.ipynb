{
 "cells": [
  {
   "cell_type": "code",
   "execution_count": 38,
   "id": "61eff623-6e3b-4dbb-8663-92fef1e2502f",
   "metadata": {},
   "outputs": [],
   "source": [
    "from pyspark.sql import SparkSession\n",
    "from pyspark.ml.feature import OneHotEncoder, StringIndexer, VectorAssembler\n",
    "from pyspark.ml.feature import VectorAssembler\n",
    "from pyspark.ml.classification import LogisticRegression\n",
    "from pyspark.ml.classification import RandomForestClassifier\n",
    "from pyspark.ml.tuning import ParamGridBuilder, CrossValidator\n",
    "from pyspark.ml.evaluation import BinaryClassificationEvaluator"
   ]
  },
  {
   "cell_type": "code",
   "execution_count": 2,
   "id": "36c0f339-05ff-4cea-87a7-93c50357a449",
   "metadata": {},
   "outputs": [],
   "source": [
    "spark=SparkSession.builder.appName('binary_class').getOrCreate()"
   ]
  },
  {
   "cell_type": "code",
   "execution_count": 3,
   "id": "0bbabe43-f9e8-46d8-aa19-9e43c0acf770",
   "metadata": {},
   "outputs": [],
   "source": [
    "df=spark.read.csv('classification_data.csv',inferSchema = True,header=True)"
   ]
  },
  {
   "cell_type": "code",
   "execution_count": 4,
   "id": "8eed0135-5603-4aad-afba-898eb28419d2",
   "metadata": {},
   "outputs": [
    {
     "name": "stdout",
     "output_type": "stream",
     "text": [
      "(46751, 12)\n"
     ]
    }
   ],
   "source": [
    "print((df.count(),len(df.columns)))"
   ]
  },
  {
   "cell_type": "code",
   "execution_count": 5,
   "id": "4b717907-4a12-4f5d-827f-05977768b811",
   "metadata": {},
   "outputs": [
    {
     "name": "stdout",
     "output_type": "stream",
     "text": [
      "root\n",
      " |-- loan_id: string (nullable = true)\n",
      " |-- loan_purpose: string (nullable = true)\n",
      " |-- is_first_loan: integer (nullable = true)\n",
      " |-- total_credit_card_limit: integer (nullable = true)\n",
      " |-- avg_percentage_credit_card_limit_used_last_year: double (nullable = true)\n",
      " |-- saving_amount: integer (nullable = true)\n",
      " |-- checking_amount: integer (nullable = true)\n",
      " |-- is_employed: integer (nullable = true)\n",
      " |-- yearly_salary: integer (nullable = true)\n",
      " |-- age: integer (nullable = true)\n",
      " |-- dependent_number: integer (nullable = true)\n",
      " |-- label: integer (nullable = true)\n",
      "\n"
     ]
    }
   ],
   "source": [
    "df.printSchema()"
   ]
  },
  {
   "cell_type": "code",
   "execution_count": 6,
   "id": "2d815358-5fec-4b7f-b671-22fa02b75a84",
   "metadata": {},
   "outputs": [
    {
     "name": "stdout",
     "output_type": "stream",
     "text": [
      "+-------+------------+-------------+-----------------------+-----------------------------------------------+-------------+---------------+-----------+-------------+---+----------------+-----+\n",
      "|loan_id|loan_purpose|is_first_loan|total_credit_card_limit|avg_percentage_credit_card_limit_used_last_year|saving_amount|checking_amount|is_employed|yearly_salary|age|dependent_number|label|\n",
      "+-------+------------+-------------+-----------------------+-----------------------------------------------+-------------+---------------+-----------+-------------+---+----------------+-----+\n",
      "|    A_1|    personal|            1|                   7900|                                            0.8|         1103|           6393|          1|        16400| 42|               4|    0|\n",
      "|    A_2|    personal|            0|                   3300|                                           0.29|         2588|            832|          1|        75500| 56|               1|    0|\n",
      "|    A_3|    personal|            0|                   7600|                                            0.9|         1651|           8868|          1|        59000| 46|               1|    0|\n",
      "|    A_4|    personal|            1|                   3400|                                           0.38|         1269|           6863|          1|        26000| 55|               8|    0|\n",
      "|    A_5|   emergency|            0|                   2600|                                           0.89|         1310|           3423|          1|         9700| 41|               4|    1|\n",
      "+-------+------------+-------------+-----------------------+-----------------------------------------------+-------------+---------------+-----------+-------------+---+----------------+-----+\n",
      "only showing top 5 rows\n",
      "\n"
     ]
    }
   ],
   "source": [
    "df.show(5)"
   ]
  },
  {
   "cell_type": "code",
   "execution_count": 7,
   "id": "1b821705-7ee0-4591-af82-df66b04af9e2",
   "metadata": {},
   "outputs": [
    {
     "name": "stdout",
     "output_type": "stream",
     "text": [
      "+-----+-----+\n",
      "|label|count|\n",
      "+-----+-----+\n",
      "|    1|16201|\n",
      "|    0|30550|\n",
      "+-----+-----+\n",
      "\n"
     ]
    }
   ],
   "source": [
    "df.groupBy('label').count().show()"
   ]
  },
  {
   "cell_type": "code",
   "execution_count": 8,
   "id": "bf8d5454-3344-4fc8-8ca5-25577af3b102",
   "metadata": {},
   "outputs": [
    {
     "name": "stdout",
     "output_type": "stream",
     "text": [
      "+------------+-----+\n",
      "|loan_purpose|count|\n",
      "+------------+-----+\n",
      "|      others| 6763|\n",
      "|   emergency| 7562|\n",
      "|    property|11388|\n",
      "|  operations|10580|\n",
      "|    personal|10458|\n",
      "+------------+-----+\n",
      "\n"
     ]
    }
   ],
   "source": [
    "df.groupBy('loan_purpose').count().show()"
   ]
  },
  {
   "cell_type": "code",
   "execution_count": 9,
   "id": "a3023815-8765-475f-bbea-d0918732f05e",
   "metadata": {},
   "outputs": [],
   "source": [
    "loan_purpose_indexer = StringIndexer(inputCol=\"loan_purpose\", outputCol=\"loan_index\").fit(df)"
   ]
  },
  {
   "cell_type": "code",
   "execution_count": 10,
   "id": "a258eed4-bd8b-4c2d-906b-a6fca4236bf1",
   "metadata": {},
   "outputs": [],
   "source": [
    "df = loan_purpose_indexer.transform(df)"
   ]
  },
  {
   "cell_type": "code",
   "execution_count": 11,
   "id": "def16c24-04cc-43bf-9895-8334866bedf7",
   "metadata": {},
   "outputs": [],
   "source": [
    "loan_encoder = OneHotEncoder(inputCol=\"loan_index\", outputCol=\"loan_purpose_vec\")"
   ]
  },
  {
   "cell_type": "code",
   "execution_count": 13,
   "id": "8a9ddd0f-6514-42aa-8b6b-a07448ae07f9",
   "metadata": {},
   "outputs": [],
   "source": [
    "df = loan_encoder.fit(df).transform(df)"
   ]
  },
  {
   "cell_type": "code",
   "execution_count": 15,
   "id": "13c642c0-58c7-4bc1-845d-0c0fe17ea663",
   "metadata": {},
   "outputs": [
    {
     "name": "stdout",
     "output_type": "stream",
     "text": [
      "+------------+----------+----------------+\n",
      "|loan_purpose|loan_index|loan_purpose_vec|\n",
      "+------------+----------+----------------+\n",
      "|personal    |2.0       |(4,[2],[1.0])   |\n",
      "|personal    |2.0       |(4,[2],[1.0])   |\n",
      "|personal    |2.0       |(4,[2],[1.0])   |\n",
      "+------------+----------+----------------+\n",
      "only showing top 3 rows\n",
      "\n"
     ]
    }
   ],
   "source": [
    "df.select(['loan_purpose','loan_index','loan_purpose_vec']).show(3,False)"
   ]
  },
  {
   "cell_type": "code",
   "execution_count": 17,
   "id": "93e8fb77-4644-4698-b2da-7ed749c008ee",
   "metadata": {},
   "outputs": [],
   "source": [
    "df_assembler = VectorAssembler(inputCols=['is_first_loan',\n",
    "'total_credit_card_limit',\n",
    "'avg_percentage_credit_card_limit_used_last_year',\n",
    "'saving_amount',\n",
    "'checking_amount',\n",
    "'is_employed',\n",
    "'yearly_salary',\n",
    "'age',\n",
    "'dependent_number',\n",
    "'loan_purpose_vec'], outputCol=\"features\")"
   ]
  },
  {
   "cell_type": "code",
   "execution_count": 18,
   "id": "9ba66ec6-5a10-4fca-a930-ce16b109883b",
   "metadata": {},
   "outputs": [],
   "source": [
    "df = df_assembler.transform(df)"
   ]
  },
  {
   "cell_type": "code",
   "execution_count": 20,
   "id": "067b2a48-8d44-42b0-806d-9f2e724de514",
   "metadata": {},
   "outputs": [
    {
     "name": "stdout",
     "output_type": "stream",
     "text": [
      "+--------------------------------------------------------------------+-----+\n",
      "|features                                                            |label|\n",
      "+--------------------------------------------------------------------+-----+\n",
      "|[1.0,7900.0,0.8,1103.0,6393.0,1.0,16400.0,42.0,4.0,0.0,0.0,1.0,0.0] |0    |\n",
      "|[0.0,3300.0,0.29,2588.0,832.0,1.0,75500.0,56.0,1.0,0.0,0.0,1.0,0.0] |0    |\n",
      "|[0.0,7600.0,0.9,1651.0,8868.0,1.0,59000.0,46.0,1.0,0.0,0.0,1.0,0.0] |0    |\n",
      "|[1.0,3400.0,0.38,1269.0,6863.0,1.0,26000.0,55.0,8.0,0.0,0.0,1.0,0.0]|0    |\n",
      "|[0.0,2600.0,0.89,1310.0,3423.0,1.0,9700.0,41.0,4.0,0.0,0.0,0.0,1.0] |1    |\n",
      "|[0.0,7600.0,0.51,1040.0,2406.0,1.0,22900.0,52.0,0.0,0.0,1.0,0.0,0.0]|0    |\n",
      "|[1.0,6900.0,0.82,2408.0,5556.0,1.0,34800.0,48.0,4.0,0.0,1.0,0.0,0.0]|0    |\n",
      "|[0.0,5700.0,0.56,1933.0,4139.0,1.0,32500.0,64.0,2.0,0.0,0.0,1.0,0.0]|0    |\n",
      "|[1.0,3400.0,0.95,3866.0,4131.0,1.0,13300.0,23.0,3.0,0.0,0.0,1.0,0.0]|0    |\n",
      "|[0.0,2900.0,0.91,88.0,2725.0,1.0,21100.0,52.0,1.0,0.0,0.0,1.0,0.0]  |1    |\n",
      "+--------------------------------------------------------------------+-----+\n",
      "only showing top 10 rows\n",
      "\n"
     ]
    }
   ],
   "source": [
    "df.select(['features','label']).show(10,False)"
   ]
  },
  {
   "cell_type": "code",
   "execution_count": 21,
   "id": "4eab6cad-ad39-45c7-ac97-cf058cacc990",
   "metadata": {},
   "outputs": [],
   "source": [
    "model_df=df.select(['features','label'])"
   ]
  },
  {
   "cell_type": "code",
   "execution_count": 22,
   "id": "d248df30-9fc0-40d2-998f-902183523274",
   "metadata": {},
   "outputs": [],
   "source": [
    "training_df,test_df=model_df.randomSplit([0.75,0.25])"
   ]
  },
  {
   "cell_type": "code",
   "execution_count": 24,
   "id": "0f0fcaba-0c37-4bc3-bafb-fe67e9270269",
   "metadata": {},
   "outputs": [],
   "source": [
    "log_reg=LogisticRegression().fit(training_df)"
   ]
  },
  {
   "cell_type": "code",
   "execution_count": 25,
   "id": "09f7cde9-c342-4800-9046-0e1ca60cbd31",
   "metadata": {},
   "outputs": [],
   "source": [
    "lr_summary=log_reg.summary"
   ]
  },
  {
   "cell_type": "code",
   "execution_count": 26,
   "id": "03cc7311-f2bb-4c41-a84c-dd3f9070d8c5",
   "metadata": {},
   "outputs": [
    {
     "data": {
      "text/plain": [
       "0.8947398464480406"
      ]
     },
     "execution_count": 26,
     "metadata": {},
     "output_type": "execute_result"
    }
   ],
   "source": [
    "lr_summary.accuracy"
   ]
  },
  {
   "cell_type": "code",
   "execution_count": 27,
   "id": "940f9f58-d4ae-40bf-896d-40d155ad264a",
   "metadata": {},
   "outputs": [
    {
     "data": {
      "text/plain": [
       "0.9593413356398106"
      ]
     },
     "execution_count": 27,
     "metadata": {},
     "output_type": "execute_result"
    }
   ],
   "source": [
    "lr_summary.areaUnderROC"
   ]
  },
  {
   "cell_type": "code",
   "execution_count": 28,
   "id": "6ec2f3a0-dbd8-48b4-a0db-7cc58d2c0e28",
   "metadata": {},
   "outputs": [],
   "source": [
    "predictions = log_reg.transform(test_df)"
   ]
  },
  {
   "cell_type": "code",
   "execution_count": 29,
   "id": "9a5e4cb6-6dd4-4d81-8ddc-02a9dac05e53",
   "metadata": {},
   "outputs": [
    {
     "name": "stdout",
     "output_type": "stream",
     "text": [
      "+--------------------+-----+--------------------+--------------------+----------+\n",
      "|            features|label|       rawPrediction|         probability|prediction|\n",
      "+--------------------+-----+--------------------+--------------------+----------+\n",
      "|(13,[0,1,2,3,4,7]...|    0|[5.13947703551435...|[0.99417339442305...|       0.0|\n",
      "|(13,[0,1,2,3,4,7]...|    1|[1.25913230953471...|[0.77887670353559...|       0.0|\n",
      "|(13,[0,1,2,3,4,7,...|    1|[-4.5547664216351...|[0.01040750124113...|       1.0|\n",
      "|(13,[0,1,2,3,4,7,...|    1|[-4.1271009933436...|[0.01587353749532...|       1.0|\n",
      "|(13,[0,1,2,3,4,7,...|    1|[-6.3909538031780...|[0.00167384976778...|       1.0|\n",
      "|(13,[0,1,2,3,4,7,...|    1|[-6.0150520203242...|[0.00243577386109...|       1.0|\n",
      "|(13,[0,1,2,3,4,7,...|    1|[-5.0853555762749...|[0.00614864710582...|       1.0|\n",
      "|(13,[0,1,2,3,4,7,...|    1|[-3.5667530655072...|[0.02747142550903...|       1.0|\n",
      "|(13,[0,1,2,3,4,7,...|    0|[-1.2421098491049...|[0.22406894948663...|       1.0|\n",
      "|(13,[0,1,2,3,4,7,...|    1|[-5.8635030360601...|[0.00283322318605...|       1.0|\n",
      "+--------------------+-----+--------------------+--------------------+----------+\n",
      "only showing top 10 rows\n",
      "\n"
     ]
    }
   ],
   "source": [
    "predictions.show(10)"
   ]
  },
  {
   "cell_type": "code",
   "execution_count": 30,
   "id": "ead0e432-4e65-4587-8942-0a2e9ba94490",
   "metadata": {},
   "outputs": [],
   "source": [
    "model_predictions = log_reg.transform(test_df)"
   ]
  },
  {
   "cell_type": "code",
   "execution_count": 31,
   "id": "5ee04118-21ac-47b1-a285-25ee3f75aea3",
   "metadata": {},
   "outputs": [],
   "source": [
    "model_predictions = log_reg.evaluate(test_df)"
   ]
  },
  {
   "cell_type": "code",
   "execution_count": 32,
   "id": "15f3c50d-0fc7-4bd0-93da-a4d501f9c367",
   "metadata": {},
   "outputs": [
    {
     "data": {
      "text/plain": [
       "0.8919241932730066"
      ]
     },
     "execution_count": 32,
     "metadata": {},
     "output_type": "execute_result"
    }
   ],
   "source": [
    "model_predictions.accuracy"
   ]
  },
  {
   "cell_type": "code",
   "execution_count": 34,
   "id": "b29f2cd2-821f-4230-bad5-e7b7194ae909",
   "metadata": {},
   "outputs": [],
   "source": [
    "rf = RandomForestClassifier()"
   ]
  },
  {
   "cell_type": "code",
   "execution_count": 35,
   "id": "1725458a-1b83-4d8d-8fa8-b8f1eb7348d7",
   "metadata": {},
   "outputs": [],
   "source": [
    "rf_model = rf.fit(training_df)"
   ]
  },
  {
   "cell_type": "code",
   "execution_count": 36,
   "id": "14682a4d-11fb-4c7a-a3bd-d3f2665e25e1",
   "metadata": {},
   "outputs": [],
   "source": [
    "model_predictions = rf_model.transform(test_df)"
   ]
  },
  {
   "cell_type": "code",
   "execution_count": 39,
   "id": "79b5ad41-2dea-4e11-a4ff-390b1c094ba6",
   "metadata": {},
   "outputs": [],
   "source": [
    "evaluator = BinaryClassificationEvaluator()"
   ]
  },
  {
   "cell_type": "code",
   "execution_count": 40,
   "id": "74c8e109-f604-49fd-a07c-203b39aa9410",
   "metadata": {},
   "outputs": [],
   "source": [
    "rf = RandomForestClassifier()"
   ]
  },
  {
   "cell_type": "code",
   "execution_count": 44,
   "id": "d82e5412-ff6b-4b0c-8b5c-475489357192",
   "metadata": {},
   "outputs": [],
   "source": [
    "paramGrid = (ParamGridBuilder().addGrid(rf.maxDepth, [5,10,20,25,30]).addGrid(rf.maxBins, [20,30,40 ]).addGrid(rf.numTrees, [5, 20,50]).build())"
   ]
  },
  {
   "cell_type": "code",
   "execution_count": 45,
   "id": "26166868-e41d-4024-aa03-bf65ff72ed62",
   "metadata": {},
   "outputs": [],
   "source": [
    "cv = CrossValidator(estimator=rf, estimatorParamMaps=paramGrid, evaluator=evaluator, numFolds=5)"
   ]
  },
  {
   "cell_type": "code",
   "execution_count": 46,
   "id": "e09d3afc-2730-44c2-955e-bceedbecf887",
   "metadata": {},
   "outputs": [],
   "source": [
    "cv_model = cv.fit(training_df)"
   ]
  },
  {
   "cell_type": "code",
   "execution_count": 47,
   "id": "93a28b78-1552-4733-88a5-4741bea62677",
   "metadata": {},
   "outputs": [],
   "source": [
    "best_rf_model = cv_model.bestModel"
   ]
  },
  {
   "cell_type": "code",
   "execution_count": 49,
   "id": "7a582cd4-e216-4b33-bc22-ad7afdd47a75",
   "metadata": {},
   "outputs": [],
   "source": [
    "model_predictions = best_rf_model.transform(test_df)"
   ]
  },
  {
   "cell_type": "code",
   "execution_count": 50,
   "id": "af084dd5-6dd3-46a8-b333-2e6490fd3855",
   "metadata": {},
   "outputs": [],
   "source": [
    "true_pos=model_predictions.filter(model_predictions['label']==1).filter(model_predictions['prediction']==1).count()"
   ]
  },
  {
   "cell_type": "code",
   "execution_count": 51,
   "id": "76d203bd-c1f9-481e-82ff-8a182bfe7297",
   "metadata": {},
   "outputs": [],
   "source": [
    "actual_pos=model_predictions.filter(model_predictions['label']==1).count()"
   ]
  },
  {
   "cell_type": "code",
   "execution_count": 52,
   "id": "05fe966b-8ad3-419d-9cc9-ff20447382eb",
   "metadata": {},
   "outputs": [],
   "source": [
    "pred_pos=model_predictions.filter(model_predictions['prediction']==1).count()"
   ]
  },
  {
   "cell_type": "code",
   "execution_count": 53,
   "id": "763cd9e1-0704-49dd-8107-b64c069b5e3d",
   "metadata": {},
   "outputs": [],
   "source": [
    "recall_rate=float(true_pos)/(actual_pos)"
   ]
  },
  {
   "cell_type": "code",
   "execution_count": 54,
   "id": "86226a0a-6e3f-48d0-b733-a0f0fd03d7c0",
   "metadata": {},
   "outputs": [
    {
     "name": "stdout",
     "output_type": "stream",
     "text": [
      "0.9058561897702001\n"
     ]
    }
   ],
   "source": [
    "print(recall_rate)"
   ]
  },
  {
   "cell_type": "code",
   "execution_count": null,
   "id": "0b915c62-6208-496c-82b8-d157b89900b5",
   "metadata": {},
   "outputs": [],
   "source": []
  }
 ],
 "metadata": {
  "kernelspec": {
   "display_name": "Python 3 (ipykernel)",
   "language": "python",
   "name": "python3"
  },
  "language_info": {
   "codemirror_mode": {
    "name": "ipython",
    "version": 3
   },
   "file_extension": ".py",
   "mimetype": "text/x-python",
   "name": "python",
   "nbconvert_exporter": "python",
   "pygments_lexer": "ipython3",
   "version": "3.10.6"
  }
 },
 "nbformat": 4,
 "nbformat_minor": 5
}
