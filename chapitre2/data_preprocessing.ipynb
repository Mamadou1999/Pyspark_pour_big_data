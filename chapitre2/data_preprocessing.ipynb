{
 "cells": [
  {
   "cell_type": "code",
   "execution_count": 1,
   "id": "45700798-d01f-4b35-b67d-a5e3d701041a",
   "metadata": {},
   "outputs": [],
   "source": [
    "from pyspark.sql import SparkSession"
   ]
  },
  {
   "cell_type": "code",
   "execution_count": 4,
   "id": "f9f20c09-ac61-4bae-aa06-45a0dd95a000",
   "metadata": {},
   "outputs": [],
   "source": [
    "spark = SparkSession.builder.appName('data_processing').getOrCreate()"
   ]
  },
  {
   "cell_type": "code",
   "execution_count": 3,
   "id": "e5a3b52a-33ad-4df1-8eba-d5d0295eb6f6",
   "metadata": {},
   "outputs": [],
   "source": [
    "import pyspark.sql.functions as F"
   ]
  },
  {
   "cell_type": "code",
   "execution_count": 5,
   "id": "43533ba9-a223-42b9-a9e9-e585104b5f34",
   "metadata": {},
   "outputs": [],
   "source": [
    "from pyspark.sql.types import *"
   ]
  },
  {
   "cell_type": "code",
   "execution_count": 6,
   "id": "61185e3e-113f-4371-a523-ca9ffd3b0473",
   "metadata": {},
   "outputs": [],
   "source": [
    "schema = StructType().add(\"user_id\",\"string\").add(\"country\",\"string\").add(\"browser\", \"string\").add(\"OS\",'string').add(\"age\", \"integer\")"
   ]
  },
  {
   "cell_type": "code",
   "execution_count": 7,
   "id": "e9486013-79c9-4bd0-be63-aedba1b09ab8",
   "metadata": {},
   "outputs": [],
   "source": [
    "df = spark.createDataFrame([(\"A203\",'India',\"Chrome\",\"WIN\", 33),(\"A201\",'China',\"Safari\",\"MacOS\",35),(\"A205\",'UK',\"Mozilla\", \"Linux\",25)],schema=schema)"
   ]
  },
  {
   "cell_type": "code",
   "execution_count": 8,
   "id": "e43f05b2-aa42-4548-8d63-2300ad1290e5",
   "metadata": {},
   "outputs": [
    {
     "name": "stdout",
     "output_type": "stream",
     "text": [
      "root\n",
      " |-- user_id: string (nullable = true)\n",
      " |-- country: string (nullable = true)\n",
      " |-- browser: string (nullable = true)\n",
      " |-- OS: string (nullable = true)\n",
      " |-- age: integer (nullable = true)\n",
      "\n"
     ]
    }
   ],
   "source": [
    "df.printSchema()"
   ]
  },
  {
   "cell_type": "code",
   "execution_count": 10,
   "id": "3328d544-bfa8-4a29-8a46-4878d1fbd4b8",
   "metadata": {},
   "outputs": [
    {
     "name": "stdout",
     "output_type": "stream",
     "text": [
      "+-------+-------+-------+-----+---+\n",
      "|user_id|country|browser|   OS|age|\n",
      "+-------+-------+-------+-----+---+\n",
      "|   A203|  India| Chrome|  WIN| 33|\n",
      "|   A201|  China| Safari|MacOS| 35|\n",
      "|   A205|     UK|Mozilla|Linux| 25|\n",
      "+-------+-------+-------+-----+---+\n",
      "\n"
     ]
    }
   ],
   "source": [
    "df.show()"
   ]
  },
  {
   "cell_type": "code",
   "execution_count": 11,
   "id": "a90df87a-4e81-42dc-bedd-5eae2f1a247e",
   "metadata": {},
   "outputs": [],
   "source": [
    "df_na=spark.createDataFrame([(\"A203\",None,\"Chrome\",\"WIN\", 33),(\"A201\",'China',None,\"MacOS\",35),(\"A205\",'UK',\"Mozilla\", \"Linux\",25)],schema=schema)"
   ]
  },
  {
   "cell_type": "code",
   "execution_count": 12,
   "id": "40fc56ce-b931-4c06-aa42-d60a61de04e7",
   "metadata": {},
   "outputs": [
    {
     "name": "stdout",
     "output_type": "stream",
     "text": [
      "+-------+-------+-------+-----+---+\n",
      "|user_id|country|browser|   OS|age|\n",
      "+-------+-------+-------+-----+---+\n",
      "|   A203|   null| Chrome|  WIN| 33|\n",
      "|   A201|  China|   null|MacOS| 35|\n",
      "|   A205|     UK|Mozilla|Linux| 25|\n",
      "+-------+-------+-------+-----+---+\n",
      "\n"
     ]
    }
   ],
   "source": [
    "df_na.show()"
   ]
  },
  {
   "cell_type": "code",
   "execution_count": 13,
   "id": "2e272aab-0aac-4e95-ac7f-0e43ace01077",
   "metadata": {},
   "outputs": [
    {
     "name": "stdout",
     "output_type": "stream",
     "text": [
      "+-------+-------+-------+-----+---+\n",
      "|user_id|country|browser|   OS|age|\n",
      "+-------+-------+-------+-----+---+\n",
      "|   A203|      0| Chrome|  WIN| 33|\n",
      "|   A201|  China|      0|MacOS| 35|\n",
      "|   A205|     UK|Mozilla|Linux| 25|\n",
      "+-------+-------+-------+-----+---+\n",
      "\n"
     ]
    }
   ],
   "source": [
    "df_na.fillna('0').show()"
   ]
  },
  {
   "cell_type": "code",
   "execution_count": 14,
   "id": "2c1188d6-68f7-42c9-a9cc-99c6bae463c0",
   "metadata": {},
   "outputs": [
    {
     "name": "stdout",
     "output_type": "stream",
     "text": [
      "+-------+-------+-------+-----+---+\n",
      "|user_id|country|browser|   OS|age|\n",
      "+-------+-------+-------+-----+---+\n",
      "|   A203|    USA| Chrome|  WIN| 33|\n",
      "|   A201|  China| Safari|MacOS| 35|\n",
      "|   A205|     UK|Mozilla|Linux| 25|\n",
      "+-------+-------+-------+-----+---+\n",
      "\n"
     ]
    }
   ],
   "source": [
    "df_na.fillna({ 'country':'USA', 'browser':'Safari' }).show()"
   ]
  },
  {
   "cell_type": "code",
   "execution_count": 15,
   "id": "f0a583c3-c360-4b3c-9385-83dcf37c7d04",
   "metadata": {},
   "outputs": [
    {
     "name": "stdout",
     "output_type": "stream",
     "text": [
      "+-------+-------+-------+-----+---+\n",
      "|user_id|country|browser|   OS|age|\n",
      "+-------+-------+-------+-----+---+\n",
      "|   A205|     UK|Mozilla|Linux| 25|\n",
      "+-------+-------+-------+-----+---+\n",
      "\n"
     ]
    }
   ],
   "source": [
    "df_na.na.drop().show()"
   ]
  },
  {
   "cell_type": "code",
   "execution_count": 16,
   "id": "54691cac-0c82-415d-874d-33514f87e362",
   "metadata": {},
   "outputs": [
    {
     "name": "stdout",
     "output_type": "stream",
     "text": [
      "+-------+-------+-------+-----+---+\n",
      "|user_id|country|browser|   OS|age|\n",
      "+-------+-------+-------+-----+---+\n",
      "|   A201|  China|   null|MacOS| 35|\n",
      "|   A205|     UK|Mozilla|Linux| 25|\n",
      "+-------+-------+-------+-----+---+\n",
      "\n"
     ]
    }
   ],
   "source": [
    "df_na.na.drop(subset='country').show()"
   ]
  },
  {
   "cell_type": "code",
   "execution_count": 17,
   "id": "3e76d6f2-60b3-4c07-8121-32788afe1e90",
   "metadata": {},
   "outputs": [
    {
     "name": "stdout",
     "output_type": "stream",
     "text": [
      "+-------+-------+-------------+-----+---+\n",
      "|user_id|country|      browser|   OS|age|\n",
      "+-------+-------+-------------+-----+---+\n",
      "|   A203|   null|Google Chrome|  WIN| 33|\n",
      "|   A201|  China|         null|MacOS| 35|\n",
      "|   A205|     UK|      Mozilla|Linux| 25|\n",
      "+-------+-------+-------------+-----+---+\n",
      "\n"
     ]
    }
   ],
   "source": [
    "df_na.replace(\"Chrome\",\"Google Chrome\").show()"
   ]
  },
  {
   "cell_type": "code",
   "execution_count": 18,
   "id": "92a85b13-3da9-4dc2-bd8f-51e5179f0deb",
   "metadata": {},
   "outputs": [
    {
     "name": "stdout",
     "output_type": "stream",
     "text": [
      "+-------+-------+-----+---+\n",
      "|country|browser|   OS|age|\n",
      "+-------+-------+-----+---+\n",
      "|   null| Chrome|  WIN| 33|\n",
      "|  China|   null|MacOS| 35|\n",
      "|     UK|Mozilla|Linux| 25|\n",
      "+-------+-------+-----+---+\n",
      "\n"
     ]
    }
   ],
   "source": [
    "df_na.drop('user_id').show()"
   ]
  },
  {
   "cell_type": "code",
   "execution_count": 21,
   "id": "6b030657-27f7-4c0f-b9bf-704c0985d46d",
   "metadata": {},
   "outputs": [],
   "source": [
    "df = spark.read.csv(\"data.csv\",header=True, inferSchema=True)"
   ]
  },
  {
   "cell_type": "code",
   "execution_count": 22,
   "id": "59373bb6-7ada-4f07-a03c-4458778b7669",
   "metadata": {},
   "outputs": [
    {
     "data": {
      "text/plain": [
       "500"
      ]
     },
     "execution_count": 22,
     "metadata": {},
     "output_type": "execute_result"
    }
   ],
   "source": [
    "df.count()"
   ]
  },
  {
   "cell_type": "code",
   "execution_count": 23,
   "id": "c0799b34-c6a6-4409-a2d9-7a2871337674",
   "metadata": {},
   "outputs": [
    {
     "data": {
      "text/plain": [
       "6"
      ]
     },
     "execution_count": 23,
     "metadata": {},
     "output_type": "execute_result"
    }
   ],
   "source": [
    "len(df.columns)"
   ]
  },
  {
   "cell_type": "code",
   "execution_count": 24,
   "id": "b079f485-b1f9-4ce1-af5d-09100e41b8a5",
   "metadata": {},
   "outputs": [
    {
     "name": "stdout",
     "output_type": "stream",
     "text": [
      "root\n",
      " |-- name: string (nullable = true)\n",
      " |-- phone: string (nullable = true)\n",
      " |-- email: string (nullable = true)\n",
      " |-- address: string (nullable = true)\n",
      " |-- region: string (nullable = true)\n",
      " |-- country: string (nullable = true)\n",
      "\n"
     ]
    }
   ],
   "source": [
    "df.printSchema()"
   ]
  },
  {
   "cell_type": "code",
   "execution_count": 25,
   "id": "2db05bf1-a551-4013-962c-8e7b7f9d173d",
   "metadata": {},
   "outputs": [
    {
     "name": "stdout",
     "output_type": "stream",
     "text": [
      "+---------------+--------------+--------------------+--------------------+---------------+-----------+\n",
      "|           name|         phone|               email|             address|         region|    country|\n",
      "+---------------+--------------+--------------------+--------------------+---------------+-----------+\n",
      "|    Keelie Love|1-557-514-9857|sociis.natoque@ic...|  8805 Nullam Avenue|Zhytomyr oblast|  Singapore|\n",
      "|Marsden Guthrie|1-547-230-2935|     nec@outlook.edu|    9029 Egestas Av.|      Michoacán|Netherlands|\n",
      "|  Skyler Church|(757) 376-7515|pede.sagittis@aol...|P.O. Box 553, 474...|     Chandigarh|      Italy|\n",
      "+---------------+--------------+--------------------+--------------------+---------------+-----------+\n",
      "only showing top 3 rows\n",
      "\n"
     ]
    }
   ],
   "source": [
    "df.show(3)"
   ]
  },
  {
   "cell_type": "code",
   "execution_count": 26,
   "id": "33b28331-17e6-44c7-91be-21035797072b",
   "metadata": {},
   "outputs": [
    {
     "name": "stdout",
     "output_type": "stream",
     "text": [
      "+-------+------------+--------------+--------------------+--------------------+---------+---------+\n",
      "|summary|        name|         phone|               email|             address|   region|  country|\n",
      "+-------+------------+--------------+--------------------+--------------------+---------+---------+\n",
      "|  count|         500|           500|                 500|                 500|      500|      500|\n",
      "|   mean|        null|          null|                null|                null|     null|     null|\n",
      "| stddev|        null|          null|                null|                null|     null|     null|\n",
      "|    min|Aaron Rhodes|(125) 437-3977| a.felis@outlook.com| 104-8166 Risus. Ave|  Abruzzo|Australia|\n",
      "|    25%|        null|          null|                null|                null|     null|     null|\n",
      "|    50%|        null|          null|                null|                null|     null|     null|\n",
      "|    75%|        null|          null|                null|                null|     null|     null|\n",
      "|    max|  Zoe Norman|1-992-505-8408|vulputate.ullamco...|P.O. Box 994, 879...|Şanlıurfa|  Vietnam|\n",
      "+-------+------------+--------------+--------------------+--------------------+---------+---------+\n",
      "\n"
     ]
    }
   ],
   "source": [
    "df.summary().show()"
   ]
  },
  {
   "cell_type": "code",
   "execution_count": 27,
   "id": "05520a7b-96ef-4c79-9270-929ed54a6cd2",
   "metadata": {},
   "outputs": [
    {
     "name": "stdout",
     "output_type": "stream",
     "text": [
      "+------------------+--------------+\n",
      "|              name|         phone|\n",
      "+------------------+--------------+\n",
      "|       Keelie Love|1-557-514-9857|\n",
      "|   Marsden Guthrie|1-547-230-2935|\n",
      "|     Skyler Church|(757) 376-7515|\n",
      "|       Sara Bowman|1-505-328-9642|\n",
      "|  Courtney Harrell|1-678-272-6863|\n",
      "|        Sage Ochoa|(527) 664-0849|\n",
      "|    Shelly Rowland|(756) 475-1995|\n",
      "|    Sharon Sanford|1-778-277-8518|\n",
      "|   Nolan Mcfarland|(154) 837-3776|\n",
      "|        Sean Morse|1-400-863-1411|\n",
      "|   Jillian Flowers|(915) 410-5105|\n",
      "|     Hayden Dotson|1-278-588-2488|\n",
      "|      Yasir Conway|(524) 360-1039|\n",
      "|   Hannah Schwartz|(871) 890-7647|\n",
      "|       Ivan Martin|1-807-618-2154|\n",
      "|      Marcia Tyson|1-768-324-0954|\n",
      "|      Shad Barrera|(934) 374-6533|\n",
      "| Macaulay Mcintyre|(257) 222-0340|\n",
      "|Jillian Fitzgerald|(416) 267-6441|\n",
      "|    Ariel Ferguson|1-647-513-7821|\n",
      "+------------------+--------------+\n",
      "only showing top 20 rows\n",
      "\n"
     ]
    }
   ],
   "source": [
    "df.select(['name','phone']).show()"
   ]
  },
  {
   "cell_type": "code",
   "execution_count": 50,
   "id": "80a14320-a04e-444c-8892-267d542f0b64",
   "metadata": {},
   "outputs": [
    {
     "name": "stdout",
     "output_type": "stream",
     "text": [
      "+----------------+--------------+--------------------+--------------------+--------------------+--------------+\n",
      "|            name|         phone|               email|             address|              region|       country|\n",
      "+----------------+--------------+--------------------+--------------------+--------------------+--------------+\n",
      "|     Keelie Love|1-557-514-9857|sociis.natoque@ic...|  8805 Nullam Avenue|     Zhytomyr oblast|     Singapore|\n",
      "| Marsden Guthrie|1-547-230-2935|     nec@outlook.edu|    9029 Egestas Av.|           Michoacán|   Netherlands|\n",
      "|     Sara Bowman|1-505-328-9642|  eleifend@google.ca|       8792 Elit Av.|           Hậu Giang|      Pakistan|\n",
      "|Courtney Harrell|1-678-272-6863|dapibus.ligula@ou...|  459-8395 Eu Street|  Northern Territory|    Costa Rica|\n",
      "|  Sharon Sanford|1-778-277-8518| molestie@google.net|Ap #812-8870 Ipsu...|             Guainía|         Chile|\n",
      "|      Sean Morse|1-400-863-1411|pede.nec.ante@out...|271-6942 Interdum...|             Bến Tre|         Italy|\n",
      "|   Hayden Dotson|1-278-588-2488|pede.nunc@hotmail...|509-5002 Integer ...|        South Island|     Singapore|\n",
      "|     Ivan Martin|1-807-618-2154|curabitur.vel.lec...|  7826 Ornare Street|      Kharkiv oblast|   South Korea|\n",
      "|    Marcia Tyson|1-768-324-0954|   facilisi@yahoo.ca|Ap #640-3484 Enim...|  Kujawsko-pomorskie|    Costa Rica|\n",
      "|  Ariel Ferguson|1-647-513-7821|ut.tincidunt@aol.com|P.O. Box 733, 562...|            Piemonte|       Vietnam|\n",
      "|  Carly Carrillo|1-546-535-4224|parturient.montes...|Ap #695-5688 Dapi...|             Suffolk|       Germany|\n",
      "|   Galvin Morrow|1-768-659-3948|neque.vitae@yahoo.ca|  723-326 Cursus St.|                Utah|        Turkey|\n",
      "|      Damian Day|1-723-846-9651|      ac@outlook.com|      9091 Ad Street|            Arequipa|         India|\n",
      "|  Silas Clements|1-603-664-5518|  metus@hotmail.couk|P.O. Box 409, 748...|           Bourgogne|      Pakistan|\n",
      "|     Zane Talley|1-506-338-4886|cursus.non@hotmai...|Ap #770-8704 Duis...|      Swiętokrzyskie|       Vietnam|\n",
      "|   Echo Randolph|1-266-928-8276|eget.ipsum@outloo...| 302-8365 Vel Street|Andaman and Nicob...|      Colombia|\n",
      "|   Rhea Roberson|1-802-855-1484|et.lacinia@proton...|P.O. Box 274, 178...|             Heredia|   Philippines|\n",
      "|      Haley Mack|1-865-351-1961|lacinia.sed.congu...|250-5708 Cras Street|              Madrid|         India|\n",
      "|  Caryn Franklin|1-695-881-2555| feugiat@hotmail.edu|226-4096 Vivamus ...|                Aceh|United Kingdom|\n",
      "| Lillian Maxwell|1-611-215-1258|neque.pellentesqu...|996-7091 Feugiat....|   South Chungcheong|         China|\n",
      "+----------------+--------------+--------------------+--------------------+--------------------+--------------+\n",
      "only showing top 20 rows\n",
      "\n"
     ]
    }
   ],
   "source": [
    "\"\"\"Puisque nous n'avons pas utilisé le même dataset que celui utilisé dans le livre, \n",
    "    notre filtre se fera sur la colonne téléphone Ici nous allons selectionné les téléphones avec comme indacteur 1 \n",
    "\"\"\"\n",
    "df.filter(df.phone.startswith(\"1\")).show()\n"
   ]
  },
  {
   "cell_type": "code",
   "execution_count": 51,
   "id": "99c58e54-57e9-4a40-a34a-d729a57be33e",
   "metadata": {},
   "outputs": [
    {
     "name": "stdout",
     "output_type": "stream",
     "text": [
      "+----------------+--------------+--------------------+--------------------+--------------------+--------------+\n",
      "|            name|         phone|               email|             address|              region|       country|\n",
      "+----------------+--------------+--------------------+--------------------+--------------------+--------------+\n",
      "|     Keelie Love|1-557-514-9857|sociis.natoque@ic...|  8805 Nullam Avenue|     Zhytomyr oblast|     Singapore|\n",
      "| Marsden Guthrie|1-547-230-2935|     nec@outlook.edu|    9029 Egestas Av.|           Michoacán|   Netherlands|\n",
      "|     Sara Bowman|1-505-328-9642|  eleifend@google.ca|       8792 Elit Av.|           Hậu Giang|      Pakistan|\n",
      "|Courtney Harrell|1-678-272-6863|dapibus.ligula@ou...|  459-8395 Eu Street|  Northern Territory|    Costa Rica|\n",
      "|  Sharon Sanford|1-778-277-8518| molestie@google.net|Ap #812-8870 Ipsu...|             Guainía|         Chile|\n",
      "|      Sean Morse|1-400-863-1411|pede.nec.ante@out...|271-6942 Interdum...|             Bến Tre|         Italy|\n",
      "|   Hayden Dotson|1-278-588-2488|pede.nunc@hotmail...|509-5002 Integer ...|        South Island|     Singapore|\n",
      "|     Ivan Martin|1-807-618-2154|curabitur.vel.lec...|  7826 Ornare Street|      Kharkiv oblast|   South Korea|\n",
      "|    Marcia Tyson|1-768-324-0954|   facilisi@yahoo.ca|Ap #640-3484 Enim...|  Kujawsko-pomorskie|    Costa Rica|\n",
      "|  Ariel Ferguson|1-647-513-7821|ut.tincidunt@aol.com|P.O. Box 733, 562...|            Piemonte|       Vietnam|\n",
      "|  Carly Carrillo|1-546-535-4224|parturient.montes...|Ap #695-5688 Dapi...|             Suffolk|       Germany|\n",
      "|   Galvin Morrow|1-768-659-3948|neque.vitae@yahoo.ca|  723-326 Cursus St.|                Utah|        Turkey|\n",
      "|      Damian Day|1-723-846-9651|      ac@outlook.com|      9091 Ad Street|            Arequipa|         India|\n",
      "|  Silas Clements|1-603-664-5518|  metus@hotmail.couk|P.O. Box 409, 748...|           Bourgogne|      Pakistan|\n",
      "|     Zane Talley|1-506-338-4886|cursus.non@hotmai...|Ap #770-8704 Duis...|      Swiętokrzyskie|       Vietnam|\n",
      "|   Echo Randolph|1-266-928-8276|eget.ipsum@outloo...| 302-8365 Vel Street|Andaman and Nicob...|      Colombia|\n",
      "|   Rhea Roberson|1-802-855-1484|et.lacinia@proton...|P.O. Box 274, 178...|             Heredia|   Philippines|\n",
      "|      Haley Mack|1-865-351-1961|lacinia.sed.congu...|250-5708 Cras Street|              Madrid|         India|\n",
      "|  Caryn Franklin|1-695-881-2555| feugiat@hotmail.edu|226-4096 Vivamus ...|                Aceh|United Kingdom|\n",
      "| Lillian Maxwell|1-611-215-1258|neque.pellentesqu...|996-7091 Feugiat....|   South Chungcheong|         China|\n",
      "+----------------+--------------+--------------------+--------------------+--------------------+--------------+\n",
      "only showing top 20 rows\n",
      "\n"
     ]
    }
   ],
   "source": [
    "df.where(df.phone.startswith(\"1\")).show()\n"
   ]
  },
  {
   "cell_type": "code",
   "execution_count": 52,
   "id": "3ab03059-212e-46fc-af37-0c349d90f236",
   "metadata": {},
   "outputs": [
    {
     "name": "stdout",
     "output_type": "stream",
     "text": [
      "+------------------+-----+\n",
      "|           country|count|\n",
      "+------------------+-----+\n",
      "|            Sweden|   10|\n",
      "|       Philippines|   11|\n",
      "|         Singapore|   13|\n",
      "|            Turkey|   16|\n",
      "|           Germany|   13|\n",
      "|            France|   12|\n",
      "|           Belgium|   13|\n",
      "|              Peru|    7|\n",
      "|             India|   23|\n",
      "|             China|   10|\n",
      "|     United States|   13|\n",
      "|             Chile|   16|\n",
      "|           Nigeria|   18|\n",
      "|             Italy|   20|\n",
      "|            Norway|    7|\n",
      "|             Spain|    8|\n",
      "|Russian Federation|   18|\n",
      "|           Ireland|   17|\n",
      "|           Ukraine|   15|\n",
      "|       South Korea|   19|\n",
      "+------------------+-----+\n",
      "only showing top 20 rows\n",
      "\n"
     ]
    }
   ],
   "source": [
    "#Aggregation sur la colonne country\n",
    "\n",
    "df.groupBy('country').count().show()"
   ]
  },
  {
   "cell_type": "code",
   "execution_count": 54,
   "id": "d03194fe-09b4-4cf6-972c-66dd8ff342dc",
   "metadata": {},
   "outputs": [
    {
     "name": "stdout",
     "output_type": "stream",
     "text": [
      " Aggregation for  region\n",
      "+----------------------------+-----+\n",
      "|region                      |count|\n",
      "+----------------------------+-----+\n",
      "|South Island                |10   |\n",
      "|Azad Kashmir                |7    |\n",
      "|East Region                 |7    |\n",
      "|Australian Capital Territory|5    |\n",
      "|North Island                |5    |\n",
      "|Guerrero                    |4    |\n",
      "|Gyeonggi                    |4    |\n",
      "|KwaZulu-Natal               |4    |\n",
      "|Gävleborgs län              |4    |\n",
      "|Gauteng                     |4    |\n",
      "|Limón                       |4    |\n",
      "|Antwerpen                   |4    |\n",
      "|Mpumalanga                  |3    |\n",
      "|South Gyeongsang            |3    |\n",
      "|Cantabria                   |3    |\n",
      "|Lima                        |3    |\n",
      "|Emilia-Romagna              |3    |\n",
      "|Connacht                    |3    |\n",
      "|Salzburg                    |3    |\n",
      "|Dolnośląskie                |3    |\n",
      "+----------------------------+-----+\n",
      "only showing top 20 rows\n",
      "\n",
      " Aggregation for  country\n",
      "+------------------+-----+\n",
      "|country           |count|\n",
      "+------------------+-----+\n",
      "|Netherlands       |25   |\n",
      "|India             |23   |\n",
      "|Mexico            |22   |\n",
      "|Italy             |20   |\n",
      "|Vietnam           |20   |\n",
      "|South Korea       |19   |\n",
      "|Nigeria           |18   |\n",
      "|Russian Federation|18   |\n",
      "|Ireland           |17   |\n",
      "|Indonesia         |16   |\n",
      "|Poland            |16   |\n",
      "|Austria           |16   |\n",
      "|Chile             |16   |\n",
      "|South Africa      |16   |\n",
      "|Turkey            |16   |\n",
      "|Colombia          |15   |\n",
      "|United Kingdom    |15   |\n",
      "|Ukraine           |15   |\n",
      "|Singapore         |13   |\n",
      "|Germany           |13   |\n",
      "+------------------+-----+\n",
      "only showing top 20 rows\n",
      "\n"
     ]
    }
   ],
   "source": [
    "#Aggragation sur les colonnes country et région\n",
    "for col in [\"region\", \"country\"]:\n",
    "    print(f\" Aggregation for  {col}\")\n",
    "    df.groupBy(col).count().orderBy('count',ascending=False).show(truncate=False)"
   ]
  },
  {
   "cell_type": "code",
   "execution_count": 57,
   "id": "66388de3-7640-480d-b6c6-e686f85b98af",
   "metadata": {},
   "outputs": [
    {
     "name": "stdout",
     "output_type": "stream",
     "text": [
      "+--------------------+--------------------+\n",
      "|              region|collect_set(country)|\n",
      "+--------------------+--------------------+\n",
      "|             Abruzzo|       [Netherlands]|\n",
      "|                Aceh|    [United Kingdom]|\n",
      "|               Agder|[South Korea, Mex...|\n",
      "|               Aisén|    [India, Ukraine]|\n",
      "|            Alajuela|             [Italy]|\n",
      "|             Alberta|             [India]|\n",
      "|         Amur Oblast|[Russian Federation]|\n",
      "|             Anambra|          [Pakistan]|\n",
      "|              Ancash|           [Ireland]|\n",
      "|           Andalucía|            [Turkey]|\n",
      "|Andaman and Nicob...|[Colombia, Russia...|\n",
      "|              Ankara|[Ukraine, Netherl...|\n",
      "|           Antioquia|            [Brazil]|\n",
      "|           Antwerpen|[France, Germany,...|\n",
      "|              Aragón|[Russian Federation]|\n",
      "|              Arauca|    [Brazil, Turkey]|\n",
      "|           Araucanía|            [Canada]|\n",
      "|            Arequipa|    [Austria, India]|\n",
      "|    Astrakhan Oblast|           [Vietnam]|\n",
      "|             Atacama|           [Nigeria]|\n",
      "+--------------------+--------------------+\n",
      "only showing top 20 rows\n",
      "\n"
     ]
    }
   ],
   "source": [
    "df.groupby(\"region\").agg(F.collect_set(\"country\")).show()"
   ]
  },
  {
   "cell_type": "code",
   "execution_count": 58,
   "id": "ea3550f0-682e-4dbe-804f-7687f800469b",
   "metadata": {},
   "outputs": [
    {
     "name": "stdout",
     "output_type": "stream",
     "text": [
      "+--------------------+---------------------+\n",
      "|              region|collect_list(country)|\n",
      "+--------------------+---------------------+\n",
      "|             Abruzzo|        [Netherlands]|\n",
      "|                Aceh|     [United Kingdom]|\n",
      "|               Agder| [Costa Rica, Mexi...|\n",
      "|               Aisén|     [India, Ukraine]|\n",
      "|            Alajuela|              [Italy]|\n",
      "|             Alberta|              [India]|\n",
      "|         Amur Oblast| [Russian Federation]|\n",
      "|             Anambra|           [Pakistan]|\n",
      "|              Ancash|            [Ireland]|\n",
      "|           Andalucía|             [Turkey]|\n",
      "|Andaman and Nicob...| [Russian Federati...|\n",
      "|              Ankara| [Netherlands, Ukr...|\n",
      "|           Antioquia|             [Brazil]|\n",
      "|           Antwerpen| [Germany, Spain, ...|\n",
      "|              Aragón| [Russian Federation]|\n",
      "|              Arauca|     [Brazil, Turkey]|\n",
      "|           Araucanía|             [Canada]|\n",
      "|            Arequipa| [Austria, Austria...|\n",
      "|    Astrakhan Oblast|            [Vietnam]|\n",
      "|             Atacama|            [Nigeria]|\n",
      "+--------------------+---------------------+\n",
      "only showing top 20 rows\n",
      "\n"
     ]
    }
   ],
   "source": [
    "df.groupby(\"region\").agg(F.collect_list(\"country\")).show()"
   ]
  },
  {
   "cell_type": "code",
   "execution_count": 78,
   "id": "e894d742-4bdc-47d4-a719-c864977513f4",
   "metadata": {},
   "outputs": [],
   "source": [
    "#Ajout de deux colonnes(age et age_category) pour pouvoir appliquer les UDFs\n",
    "from pyspark.sql.functions import rand\n",
    "df = df.withColumn('age', round(rand()*(100-20))) "
   ]
  },
  {
   "cell_type": "code",
   "execution_count": 79,
   "id": "f214648f-46dc-478f-aa74-46d47e1c185f",
   "metadata": {},
   "outputs": [
    {
     "name": "stdout",
     "output_type": "stream",
     "text": [
      "+----+\n",
      "| age|\n",
      "+----+\n",
      "|17.0|\n",
      "|34.0|\n",
      "| 6.0|\n",
      "|78.0|\n",
      "|28.0|\n",
      "|34.0|\n",
      "|30.0|\n",
      "|75.0|\n",
      "|41.0|\n",
      "|63.0|\n",
      "|68.0|\n",
      "|16.0|\n",
      "|47.0|\n",
      "|27.0|\n",
      "|51.0|\n",
      "|23.0|\n",
      "|62.0|\n",
      "|72.0|\n",
      "|50.0|\n",
      "|46.0|\n",
      "+----+\n",
      "only showing top 20 rows\n",
      "\n"
     ]
    }
   ],
   "source": [
    "df.select('age').show()"
   ]
  },
  {
   "cell_type": "code",
   "execution_count": 104,
   "id": "1f84a184-2f1b-4da0-8c2b-bad2f54c9c46",
   "metadata": {},
   "outputs": [],
   "source": [
    "#definition de la fonction age_category\n",
    "\n",
    "def age_category(age):\n",
    "    if age > 1 and age <= 20:\n",
    "        return \"Very Young\"\n",
    "    elif age > 20 and age <= 30:\n",
    "        return \"Young\"\n",
    "    elif age > 30 and age <= 40:\n",
    "        return \"Mid Aged\"\n",
    "    elif ((age > 40 and age <= 50) or (age > 50 and age <= 60)) :\n",
    "        return \"Old\"\n",
    "    else:\n",
    "        return \"Very Old\""
   ]
  },
  {
   "cell_type": "code",
   "execution_count": 105,
   "id": "9fcf0384-dbe6-4246-be14-8009f438678a",
   "metadata": {},
   "outputs": [],
   "source": [
    "age_udf=udf(age_category,StringType())"
   ]
  },
  {
   "cell_type": "code",
   "execution_count": 107,
   "id": "ea3b7966-3631-4ebc-b7ed-2699c73fefec",
   "metadata": {},
   "outputs": [],
   "source": [
    "df=df.withColumn('age_category',age_udf(df['age']))"
   ]
  },
  {
   "cell_type": "code",
   "execution_count": 109,
   "id": "47a2293d-ae7f-41cd-ab4f-d3f935c65d08",
   "metadata": {},
   "outputs": [
    {
     "name": "stdout",
     "output_type": "stream",
     "text": [
      "+----+------------+\n",
      "| age|age_category|\n",
      "+----+------------+\n",
      "|17.0|  Very Young|\n",
      "|34.0|    Mid Aged|\n",
      "| 6.0|  Very Young|\n",
      "|78.0|    Very Old|\n",
      "|28.0|       Young|\n",
      "|34.0|    Mid Aged|\n",
      "|30.0|       Young|\n",
      "|75.0|    Very Old|\n",
      "|41.0|         Old|\n",
      "|63.0|    Very Old|\n",
      "|68.0|    Very Old|\n",
      "|16.0|  Very Young|\n",
      "|47.0|         Old|\n",
      "|27.0|       Young|\n",
      "|51.0|         Old|\n",
      "|23.0|       Young|\n",
      "|62.0|    Very Old|\n",
      "|72.0|    Very Old|\n",
      "|50.0|         Old|\n",
      "|46.0|         Old|\n",
      "+----+------------+\n",
      "only showing top 20 rows\n",
      "\n"
     ]
    }
   ],
   "source": [
    "df.select('age','age_category').show()"
   ]
  },
  {
   "cell_type": "code",
   "execution_count": 110,
   "id": "26dab418-036b-4d8a-9e80-c966a1746fef",
   "metadata": {},
   "outputs": [
    {
     "name": "stdout",
     "output_type": "stream",
     "text": [
      "+------------+-----+\n",
      "|age_category|count|\n",
      "+------------+-----+\n",
      "|    Mid Aged|   61|\n",
      "|    Very Old|  143|\n",
      "|         Old|  138|\n",
      "|  Very Young|  107|\n",
      "|       Young|   51|\n",
      "+------------+-----+\n",
      "\n"
     ]
    }
   ],
   "source": [
    "df.groupby(\"age_category\").count().show()"
   ]
  },
  {
   "cell_type": "code",
   "execution_count": null,
   "id": "0a79d9e7-567a-416d-800a-65aa9bfd8966",
   "metadata": {},
   "outputs": [],
   "source": []
  }
 ],
 "metadata": {
  "kernelspec": {
   "display_name": "Python 3 (ipykernel)",
   "language": "python",
   "name": "python3"
  },
  "language_info": {
   "codemirror_mode": {
    "name": "ipython",
    "version": 3
   },
   "file_extension": ".py",
   "mimetype": "text/x-python",
   "name": "python",
   "nbconvert_exporter": "python",
   "pygments_lexer": "ipython3",
   "version": "3.10.6"
  }
 },
 "nbformat": 4,
 "nbformat_minor": 5
}
