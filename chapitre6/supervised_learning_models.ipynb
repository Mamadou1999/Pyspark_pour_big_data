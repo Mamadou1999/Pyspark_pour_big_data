{
 "cells": [
  {
   "cell_type": "code",
   "execution_count": 160,
   "id": "d34f8167-f3ec-4d0d-9ee9-a5e4420d6bb6",
   "metadata": {},
   "outputs": [],
   "source": [
    "from pyspark.sql import SparkSession\n",
    "from pyspark.ml.linalg import Vector\n",
    "from pyspark.ml.feature import VectorAssembler, StringIndexer, VectorAssembler, OneHotEncoder\n",
    "from pyspark.ml.regression import LinearRegression\n",
    "from pyspark.ml.regression import DecisionTreeRegressor\n",
    "from pyspark.ml.evaluation import RegressionEvaluator\n",
    "from pyspark.sql import functions as F\n",
    "from pyspark.sql import *\n",
    "from pyspark.ml.classification import LogisticRegression, NaiveBayes\n",
    "from pyspark.ml.evaluation import BinaryClassificationEvaluator"
   ]
  },
  {
   "cell_type": "code",
   "execution_count": 8,
   "id": "9090a207-77f1-43d2-bfa7-2bacc5727af5",
   "metadata": {},
   "outputs": [],
   "source": [
    "#SparkSession object creation\n",
    "spark = SparkSession.builder.appName('supervised_ml').getOrCreate()"
   ]
  },
  {
   "cell_type": "code",
   "execution_count": 9,
   "id": "7ccf4933-5558-4b67-b522-b7731390fb0c",
   "metadata": {},
   "outputs": [],
   "source": [
    "#Load data\n",
    "df = spark.read.csv('Linear_regression_dataset.csv',inferSchema=True,header=True)"
   ]
  },
  {
   "cell_type": "code",
   "execution_count": 6,
   "id": "85a52581-0e75-4f57-9597-f5db7294e3a6",
   "metadata": {},
   "outputs": [
    {
     "name": "stdout",
     "output_type": "stream",
     "text": [
      "(1232, 6)\n"
     ]
    }
   ],
   "source": [
    "print((df.count(), len(df.columns)))"
   ]
  },
  {
   "cell_type": "code",
   "execution_count": 7,
   "id": "36617597-efdd-40c9-aa8e-4900abe4f0dc",
   "metadata": {},
   "outputs": [
    {
     "name": "stdout",
     "output_type": "stream",
     "text": [
      "root\n",
      " |-- var_1: integer (nullable = true)\n",
      " |-- var_2: integer (nullable = true)\n",
      " |-- var_3: integer (nullable = true)\n",
      " |-- var_4: double (nullable = true)\n",
      " |-- var_5: double (nullable = true)\n",
      " |-- label: double (nullable = true)\n",
      "\n"
     ]
    }
   ],
   "source": [
    "df.printSchema()"
   ]
  },
  {
   "cell_type": "code",
   "execution_count": 10,
   "id": "dc516ba2-77f7-4c9d-b42b-bd84bdbe6896",
   "metadata": {},
   "outputs": [
    {
     "name": "stdout",
     "output_type": "stream",
     "text": [
      "+-----+-----+-----+-----+-----+-----+\n",
      "|var_1|var_2|var_3|var_4|var_5|label|\n",
      "+-----+-----+-----+-----+-----+-----+\n",
      "|  734|  688|   81|0.328|0.259|0.418|\n",
      "|  700|  600|   94| 0.32|0.247|0.389|\n",
      "|  712|  705|   93|0.311|0.247|0.417|\n",
      "|  734|  806|   69|0.315| 0.26|0.415|\n",
      "|  613|  759|   61|0.302| 0.24|0.378|\n",
      "|  748|  676|   85|0.318|0.255|0.422|\n",
      "|  669|  588|   97|0.315|0.251|0.411|\n",
      "|  667|  845|   68|0.324|0.251|0.381|\n",
      "|  758|  890|   64| 0.33|0.274|0.436|\n",
      "|  726|  670|   88|0.335|0.268|0.422|\n",
      "|  583|  794|   55|0.302|0.236|0.371|\n",
      "|  676|  746|   72|0.317|0.265|  0.4|\n",
      "|  767|  699|   89|0.332|0.274|0.433|\n",
      "|  637|  597|   86|0.317|0.252|0.374|\n",
      "|  609|  724|   69|0.308|0.244|0.382|\n",
      "+-----+-----+-----+-----+-----+-----+\n",
      "only showing top 15 rows\n",
      "\n"
     ]
    }
   ],
   "source": [
    "df.show(15)"
   ]
  },
  {
   "cell_type": "markdown",
   "id": "71ab85cb-c35e-4bcc-b9ce-225ead9c4ad7",
   "metadata": {},
   "source": [
    "Regression "
   ]
  },
  {
   "cell_type": "code",
   "execution_count": 47,
   "id": "88e3a407-fca9-4093-bbde-3fa72b356ece",
   "metadata": {},
   "outputs": [],
   "source": [
    "#Feature engineering \n",
    "vec_assmebler = VectorAssembler(inputCols=['var_1', 'var_2', 'var_3', 'var_4', 'var_5'], outputCol='features')"
   ]
  },
  {
   "cell_type": "code",
   "execution_count": 51,
   "id": "a55f13c4-0ab4-4c95-be52-f7fd65e16eba",
   "metadata": {},
   "outputs": [],
   "source": [
    "df = vec_assmebler.transform(df)"
   ]
  },
  {
   "cell_type": "code",
   "execution_count": 52,
   "id": "8ae9ccec-de8d-4966-a2c9-47b141d14fb6",
   "metadata": {},
   "outputs": [
    {
     "name": "stdout",
     "output_type": "stream",
     "text": [
      "+-----+-----+-----+-----+-----+-----+--------------------+\n",
      "|var_1|var_2|var_3|var_4|var_5|label|            features|\n",
      "+-----+-----+-----+-----+-----+-----+--------------------+\n",
      "|  734|  688|   81|0.328|0.259|0.418|[734.0,688.0,81.0...|\n",
      "|  700|  600|   94| 0.32|0.247|0.389|[700.0,600.0,94.0...|\n",
      "|  712|  705|   93|0.311|0.247|0.417|[712.0,705.0,93.0...|\n",
      "|  734|  806|   69|0.315| 0.26|0.415|[734.0,806.0,69.0...|\n",
      "|  613|  759|   61|0.302| 0.24|0.378|[613.0,759.0,61.0...|\n",
      "|  748|  676|   85|0.318|0.255|0.422|[748.0,676.0,85.0...|\n",
      "|  669|  588|   97|0.315|0.251|0.411|[669.0,588.0,97.0...|\n",
      "|  667|  845|   68|0.324|0.251|0.381|[667.0,845.0,68.0...|\n",
      "|  758|  890|   64| 0.33|0.274|0.436|[758.0,890.0,64.0...|\n",
      "|  726|  670|   88|0.335|0.268|0.422|[726.0,670.0,88.0...|\n",
      "|  583|  794|   55|0.302|0.236|0.371|[583.0,794.0,55.0...|\n",
      "|  676|  746|   72|0.317|0.265|  0.4|[676.0,746.0,72.0...|\n",
      "|  767|  699|   89|0.332|0.274|0.433|[767.0,699.0,89.0...|\n",
      "|  637|  597|   86|0.317|0.252|0.374|[637.0,597.0,86.0...|\n",
      "|  609|  724|   69|0.308|0.244|0.382|[609.0,724.0,69.0...|\n",
      "|  776|  733|   83|0.325|0.259|0.437|[776.0,733.0,83.0...|\n",
      "|  701|  832|   66|0.325| 0.26| 0.39|[701.0,832.0,66.0...|\n",
      "|  650|  709|   74|0.316|0.249|0.386|[650.0,709.0,74.0...|\n",
      "|  804|  668|   95|0.337|0.265|0.453|[804.0,668.0,95.0...|\n",
      "|  713|  614|   94| 0.31|0.238|0.404|[713.0,614.0,94.0...|\n",
      "+-----+-----+-----+-----+-----+-----+--------------------+\n",
      "only showing top 20 rows\n",
      "\n"
     ]
    }
   ],
   "source": [
    "df.show()"
   ]
  },
  {
   "cell_type": "code",
   "execution_count": 53,
   "id": "17217d5f-173a-40c4-a95c-5536dc8071c9",
   "metadata": {},
   "outputs": [
    {
     "name": "stdout",
     "output_type": "stream",
     "text": [
      "+--------------------+-----+\n",
      "|            features|label|\n",
      "+--------------------+-----+\n",
      "|[734.0,688.0,81.0...|0.418|\n",
      "|[700.0,600.0,94.0...|0.389|\n",
      "|[712.0,705.0,93.0...|0.417|\n",
      "|[734.0,806.0,69.0...|0.415|\n",
      "|[613.0,759.0,61.0...|0.378|\n",
      "|[748.0,676.0,85.0...|0.422|\n",
      "|[669.0,588.0,97.0...|0.411|\n",
      "|[667.0,845.0,68.0...|0.381|\n",
      "|[758.0,890.0,64.0...|0.436|\n",
      "|[726.0,670.0,88.0...|0.422|\n",
      "|[583.0,794.0,55.0...|0.371|\n",
      "|[676.0,746.0,72.0...|  0.4|\n",
      "|[767.0,699.0,89.0...|0.433|\n",
      "|[637.0,597.0,86.0...|0.374|\n",
      "|[609.0,724.0,69.0...|0.382|\n",
      "|[776.0,733.0,83.0...|0.437|\n",
      "|[701.0,832.0,66.0...| 0.39|\n",
      "|[650.0,709.0,74.0...|0.386|\n",
      "|[804.0,668.0,95.0...|0.453|\n",
      "|[713.0,614.0,94.0...|0.404|\n",
      "+--------------------+-----+\n",
      "only showing top 20 rows\n",
      "\n"
     ]
    }
   ],
   "source": [
    "df.select(['features','label']).show()"
   ]
  },
  {
   "cell_type": "code",
   "execution_count": 55,
   "id": "da70fabd-c5db-4773-88d9-716139553a14",
   "metadata": {},
   "outputs": [],
   "source": [
    "#Split data to train and test set\n",
    "train, test = df.randomSplit([0.75, 0.25])"
   ]
  },
  {
   "cell_type": "code",
   "execution_count": 59,
   "id": "e3f12dd2-8916-4627-8a94-883e184a834e",
   "metadata": {},
   "outputs": [],
   "source": [
    "#Build and Train Linear Regression Model using linear regression\n",
    "lr = LinearRegression()\n",
    "lr_model = lr.fit(train)"
   ]
  },
  {
   "cell_type": "code",
   "execution_count": 60,
   "id": "aa3ea676-60d4-4a4d-9aaf-69b43b7dbee0",
   "metadata": {},
   "outputs": [],
   "source": [
    "#Test the obtained model \n",
    "predictions_df=lr_model.transform(test)"
   ]
  },
  {
   "cell_type": "code",
   "execution_count": 61,
   "id": "53187974-1fe7-44eb-be89-f773e4fe7fd5",
   "metadata": {},
   "outputs": [
    {
     "name": "stdout",
     "output_type": "stream",
     "text": [
      "+-----+-----+-----+-----+-----+-----+--------------------+-------------------+\n",
      "|var_1|var_2|var_3|var_4|var_5|label|            features|         prediction|\n",
      "+-----+-----+-----+-----+-----+-----+--------------------+-------------------+\n",
      "|  486|  610|   61|0.293|0.233|0.332|[486.0,610.0,61.0...|  0.319523752689337|\n",
      "|  495|  752|   50|0.277|0.221|0.327|[495.0,752.0,50.0...|0.33322253929570955|\n",
      "|  510|  588|   72|0.298|0.231|0.317|[510.0,588.0,72.0...|0.32372786185483404|\n",
      "|  511|  576|   76| 0.29|0.231|0.329|[511.0,576.0,76.0...|0.33001600659149755|\n",
      "|  513|  698|   61|0.298|0.236|0.339|[513.0,698.0,61.0...|0.33103700410186143|\n",
      "|  532|  690|   69|0.303|0.245|0.351|[532.0,690.0,69.0...| 0.3395877748586824|\n",
      "|  536|  531|   83|0.292|0.214|0.318|[536.0,531.0,83.0...| 0.3271572884145917|\n",
      "|  543|  747|   60|  0.3|0.238|0.342|[543.0,747.0,60.0...| 0.3433508995433038|\n",
      "|  545|  661|   61| 0.31|0.251| 0.35|[545.0,661.0,61.0...| 0.3397315256756518|\n",
      "|  554|  536|   77|0.306| 0.24|0.339|[554.0,536.0,77.0...| 0.3364195058455264|\n",
      "|  567|  587|   84|0.301|0.238|0.349|[567.0,587.0,84.0...| 0.3469925497830316|\n",
      "|  569|  776|   53|0.296|0.246|0.348|[569.0,776.0,53.0...| 0.3601478008489343|\n",
      "|  573|  656|   75|0.313|0.242|0.345|[573.0,656.0,75.0...| 0.3442972489464076|\n",
      "|  574|  647|   72|0.302|0.244|0.355|[574.0,647.0,72.0...| 0.3530457437273654|\n",
      "|  576|  759|   57|0.313|0.254| 0.35|[576.0,759.0,57.0...|0.35404893765408585|\n",
      "|  579|  497|   91|0.304|0.225|0.352|[579.0,497.0,91.0...|0.33885011391447206|\n",
      "|  580|  600|   79|0.306|0.244|0.348|[580.0,600.0,79.0...| 0.3509878430630369|\n",
      "|  583|  472|   97|0.298|0.249|0.346|[583.0,472.0,97.0...|0.35721596543181866|\n",
      "|  585|  567|   79|0.302| 0.24| 0.34|[585.0,567.0,79.0...| 0.3520508934930471|\n",
      "|  586|  581|   79|  0.3|0.241|0.366|[586.0,581.0,79.0...|0.35507249687424947|\n",
      "+-----+-----+-----+-----+-----+-----+--------------------+-------------------+\n",
      "only showing top 20 rows\n",
      "\n"
     ]
    }
   ],
   "source": [
    "predictions_df.show()"
   ]
  },
  {
   "cell_type": "code",
   "execution_count": 62,
   "id": "62336d93-b619-4839-937f-69d29559bed9",
   "metadata": {},
   "outputs": [],
   "source": [
    "#Evaluate our model on the test set \n",
    "\n",
    "model_predictions=lr_model.evaluate(test)"
   ]
  },
  {
   "cell_type": "code",
   "execution_count": 65,
   "id": "59c24ace-2ba0-483b-a7d6-514e3ea5c71d",
   "metadata": {},
   "outputs": [
    {
     "data": {
      "text/plain": [
       "0.8750608374757474"
      ]
     },
     "execution_count": 65,
     "metadata": {},
     "output_type": "execute_result"
    }
   ],
   "source": [
    "#Using the r2 metric \n",
    "model_predictions.r2"
   ]
  },
  {
   "cell_type": "code",
   "execution_count": 66,
   "id": "26201cbe-cbb4-4777-801f-484190dfef00",
   "metadata": {},
   "outputs": [
    {
     "data": {
      "text/plain": [
       "0.00013349687769823547"
      ]
     },
     "execution_count": 66,
     "metadata": {},
     "output_type": "execute_result"
    }
   ],
   "source": [
    "#Using the meanSquaredError metric \n",
    "model_predictions.meanSquaredError"
   ]
  },
  {
   "cell_type": "code",
   "execution_count": 68,
   "id": "fb98aa7c-9ecc-441b-b1d2-8bbc608563ab",
   "metadata": {},
   "outputs": [
    {
     "data": {
      "text/plain": [
       "SparseVector(5, {0: 0.9603, 1: 0.0159, 2: 0.0055, 3: 0.007, 4: 0.0113})"
      ]
     },
     "execution_count": 68,
     "metadata": {},
     "output_type": "execute_result"
    }
   ],
   "source": [
    "#Build and train Linear Regression model using Decision Tree\n",
    "dec_tree = DecisionTreeRegressor()\n",
    "dec_tree_model = dec_tree.fit(train)\n",
    "dec_tree_model.featureImportances"
   ]
  },
  {
   "cell_type": "code",
   "execution_count": 69,
   "id": "70b01368-6e3b-478a-b0d5-1ec818ce34e3",
   "metadata": {},
   "outputs": [
    {
     "name": "stdout",
     "output_type": "stream",
     "text": [
      "+-----+-----+-----+-----+-----+-----+--------------------+-------------------+\n",
      "|var_1|var_2|var_3|var_4|var_5|label|            features|         prediction|\n",
      "+-----+-----+-----+-----+-----+-----+--------------------+-------------------+\n",
      "|  486|  610|   61|0.293|0.233|0.332|[486.0,610.0,61.0...|0.31923076923076926|\n",
      "|  495|  752|   50|0.277|0.221|0.327|[495.0,752.0,50.0...| 0.3276666666666667|\n",
      "|  510|  588|   72|0.298|0.231|0.317|[510.0,588.0,72.0...|0.31923076923076926|\n",
      "|  511|  576|   76| 0.29|0.231|0.329|[511.0,576.0,76.0...|0.31923076923076926|\n",
      "|  513|  698|   61|0.298|0.236|0.339|[513.0,698.0,61.0...|0.33475000000000005|\n",
      "|  532|  690|   69|0.303|0.245|0.351|[532.0,690.0,69.0...|0.33475000000000005|\n",
      "|  536|  531|   83|0.292|0.214|0.318|[536.0,531.0,83.0...|0.31923076923076926|\n",
      "|  543|  747|   60|  0.3|0.238|0.342|[543.0,747.0,60.0...|              0.355|\n",
      "|  545|  661|   61| 0.31|0.251| 0.35|[545.0,661.0,61.0...|0.33475000000000005|\n",
      "|  554|  536|   77|0.306| 0.24|0.339|[554.0,536.0,77.0...|0.34911764705882353|\n",
      "|  567|  587|   84|0.301|0.238|0.349|[567.0,587.0,84.0...|0.34911764705882353|\n",
      "|  569|  776|   53|0.296|0.246|0.348|[569.0,776.0,53.0...| 0.3638333333333334|\n",
      "|  573|  656|   75|0.313|0.242|0.345|[573.0,656.0,75.0...|0.34911764705882353|\n",
      "|  574|  647|   72|0.302|0.244|0.355|[574.0,647.0,72.0...|0.34911764705882353|\n",
      "|  576|  759|   57|0.313|0.254| 0.35|[576.0,759.0,57.0...| 0.3814285714285714|\n",
      "|  579|  497|   91|0.304|0.225|0.352|[579.0,497.0,91.0...|0.34911764705882353|\n",
      "|  580|  600|   79|0.306|0.244|0.348|[580.0,600.0,79.0...|0.34911764705882353|\n",
      "|  583|  472|   97|0.298|0.249|0.346|[583.0,472.0,97.0...|0.34911764705882353|\n",
      "|  585|  567|   79|0.302| 0.24| 0.34|[585.0,567.0,79.0...|0.34911764705882353|\n",
      "|  586|  581|   79|  0.3|0.241|0.366|[586.0,581.0,79.0...|0.34911764705882353|\n",
      "+-----+-----+-----+-----+-----+-----+--------------------+-------------------+\n",
      "only showing top 20 rows\n",
      "\n"
     ]
    }
   ],
   "source": [
    "#Evaluate the model on test data \n",
    "\n",
    "model_predictions = dec_tree_model.transform(test)\n",
    "model_predictions.show()"
   ]
  },
  {
   "cell_type": "code",
   "execution_count": 73,
   "id": "8a310ffe-6128-4575-abbd-5db0dd5df4fb",
   "metadata": {},
   "outputs": [
    {
     "name": "stdout",
     "output_type": "stream",
     "text": [
      "0.8190687807285287\n"
     ]
    }
   ],
   "source": [
    "#Evaluation using r2 metric\n",
    "dt_evaluator = RegressionEvaluator(metricName='r2')\n",
    "dt_r2 = dt_evaluator.evaluate(model_predictions)\n",
    "print(dt_r2)"
   ]
  },
  {
   "cell_type": "code",
   "execution_count": 74,
   "id": "5450f630-e4a7-45d3-ab4f-2274304ee3ff",
   "metadata": {},
   "outputs": [
    {
     "name": "stdout",
     "output_type": "stream",
     "text": [
      "0.013904104200400598\n"
     ]
    }
   ],
   "source": [
    "#Evaluation using RootMeanSquaredError metric\n",
    "dt_evaluator = RegressionEvaluator(metricName='rmse')\n",
    "dt_rmse = dt_evaluator.evaluate(model_predictions)\n",
    "print(dt_rmse)"
   ]
  },
  {
   "cell_type": "markdown",
   "id": "4261f454-2614-4a44-b939-84c4dbb5a7ef",
   "metadata": {},
   "source": [
    "Classification"
   ]
  },
  {
   "cell_type": "code",
   "execution_count": 90,
   "id": "dcb1b49d-2c7c-48f9-80e6-6cab048a1fba",
   "metadata": {},
   "outputs": [],
   "source": [
    "#Read the dataset \n",
    "df = spark.read.csv('bank_data.csv', inferSchema=True, header=True)"
   ]
  },
  {
   "cell_type": "code",
   "execution_count": 91,
   "id": "9c782b61-143f-49db-b25d-52686a74da18",
   "metadata": {},
   "outputs": [
    {
     "data": {
      "text/plain": [
       "41188"
      ]
     },
     "execution_count": 91,
     "metadata": {},
     "output_type": "execute_result"
    }
   ],
   "source": [
    "df.count()"
   ]
  },
  {
   "cell_type": "code",
   "execution_count": 95,
   "id": "87f3b2de-0414-4b61-ae12-9f586d044629",
   "metadata": {},
   "outputs": [],
   "source": [
    "df = df.select(['age', 'job', 'marital', 'education', 'default', 'housing', 'loan', 'target_class']).limit(9500)"
   ]
  },
  {
   "cell_type": "code",
   "execution_count": 96,
   "id": "6d23091b-550b-40a8-b06d-6215d9ccb7be",
   "metadata": {},
   "outputs": [
    {
     "name": "stdout",
     "output_type": "stream",
     "text": [
      "+---+-----------+--------+-------------------+-------+-------+----+------------+\n",
      "|age|        job| marital|          education|default|housing|loan|target_class|\n",
      "+---+-----------+--------+-------------------+-------+-------+----+------------+\n",
      "| 56|  housemaid| married|           basic.4y|     no|     no|  no|          no|\n",
      "| 57|   services| married|        high.school|unknown|     no|  no|          no|\n",
      "| 37|   services| married|        high.school|     no|    yes|  no|          no|\n",
      "| 40|     admin.| married|           basic.6y|     no|     no|  no|          no|\n",
      "| 56|   services| married|        high.school|     no|     no| yes|          no|\n",
      "| 45|   services| married|           basic.9y|unknown|     no|  no|          no|\n",
      "| 59|     admin.| married|professional.course|     no|     no|  no|          no|\n",
      "| 41|blue-collar| married|            unknown|unknown|     no|  no|          no|\n",
      "| 24| technician|  single|professional.course|     no|    yes|  no|          no|\n",
      "| 25|   services|  single|        high.school|     no|    yes|  no|          no|\n",
      "| 41|blue-collar| married|            unknown|unknown|     no|  no|          no|\n",
      "| 25|   services|  single|        high.school|     no|    yes|  no|          no|\n",
      "| 29|blue-collar|  single|        high.school|     no|     no| yes|          no|\n",
      "| 57|  housemaid|divorced|           basic.4y|     no|    yes|  no|          no|\n",
      "| 35|blue-collar| married|           basic.6y|     no|    yes|  no|          no|\n",
      "| 54|    retired| married|           basic.9y|unknown|    yes| yes|          no|\n",
      "| 35|blue-collar| married|           basic.6y|     no|    yes|  no|          no|\n",
      "| 46|blue-collar| married|           basic.6y|unknown|    yes| yes|          no|\n",
      "| 50|blue-collar| married|           basic.9y|     no|    yes| yes|          no|\n",
      "| 39| management|  single|           basic.9y|unknown|     no|  no|          no|\n",
      "+---+-----------+--------+-------------------+-------+-------+----+------------+\n",
      "only showing top 20 rows\n",
      "\n"
     ]
    }
   ],
   "source": [
    "df.show()"
   ]
  },
  {
   "cell_type": "code",
   "execution_count": 128,
   "id": "bea521b9-b1e9-415a-b9a2-65375df10e91",
   "metadata": {},
   "outputs": [],
   "source": [
    "#Feature engineering\n",
    "df=df.withColumn(\"label\", F.when(df.target_class =='no', F.lit(0)).otherwise(F.lit(1)))"
   ]
  },
  {
   "cell_type": "code",
   "execution_count": 129,
   "id": "dfb4085f-d6ca-46ce-b83f-8f2feba18b91",
   "metadata": {},
   "outputs": [
    {
     "name": "stdout",
     "output_type": "stream",
     "text": [
      "+-----+-----+\n",
      "|label|count|\n",
      "+-----+-----+\n",
      "|    0| 9189|\n",
      "|    1|  311|\n",
      "+-----+-----+\n",
      "\n"
     ]
    }
   ],
   "source": [
    "df.groupBy('label').count().show()"
   ]
  },
  {
   "cell_type": "code",
   "execution_count": 147,
   "id": "924b237d-039e-4cf7-9a43-1ab5499e9c9c",
   "metadata": {},
   "outputs": [],
   "source": [
    "def cat_to_num(df):\n",
    "    for col in df.columns:\n",
    "        stringIndexer = StringIndexer(inputCol=col, outputCol=col+\"_index\")\n",
    "        model = stringIndexer.fit(df)\n",
    "        indexed = model.transform(df)\n",
    "        encoder = OneHotEncoder(inputCol=col+\"_index\", outputCol=col+\"_vec\")\n",
    "        df = encoder.fit(indexed).transform(indexed)\n",
    "    df_assembler = VectorAssembler(inputCols=['age','marital_vec','education_vec','default_vec','housing_vec','loan_vec'], outputCol=\"features\")\n",
    "    df = df_assembler.transform(df)\n",
    "    return df.select(['features','label'])"
   ]
  },
  {
   "cell_type": "code",
   "execution_count": 148,
   "id": "30600e96-1570-4470-8a86-26a1b7c2ecf6",
   "metadata": {},
   "outputs": [],
   "source": [
    "df_new=cat_to_num(df)"
   ]
  },
  {
   "cell_type": "code",
   "execution_count": 149,
   "id": "b7ba446b-e617-442c-ac3d-c80f557ef767",
   "metadata": {},
   "outputs": [
    {
     "name": "stdout",
     "output_type": "stream",
     "text": [
      "+--------------------+-----+\n",
      "|            features|label|\n",
      "+--------------------+-----+\n",
      "|(16,[0,1,7,11,12,...|    0|\n",
      "|(16,[0,1,4,12,14]...|    0|\n",
      "|(16,[0,1,4,11,13,...|    0|\n",
      "|(16,[0,1,9,11,12,...|    0|\n",
      "|(16,[0,1,4,11,12,...|    0|\n",
      "|(16,[0,1,6,12,14]...|    0|\n",
      "|(16,[0,1,8,11,12,...|    0|\n",
      "|(16,[0,1,10,12,14...|    0|\n",
      "|(16,[0,2,8,11,13,...|    0|\n",
      "|(16,[0,2,4,11,13,...|    0|\n",
      "|(16,[0,1,10,12,14...|    0|\n",
      "|(16,[0,2,4,11,13,...|    0|\n",
      "|(16,[0,2,4,11,12,...|    0|\n",
      "|(16,[0,3,7,11,13,...|    0|\n",
      "|(16,[0,1,9,11,13,...|    0|\n",
      "|(16,[0,1,6,13,15]...|    0|\n",
      "|(16,[0,1,9,11,13,...|    0|\n",
      "|(16,[0,1,9,13,15]...|    0|\n",
      "|(16,[0,1,6,11,13,...|    0|\n",
      "|(16,[0,2,6,12,14]...|    0|\n",
      "+--------------------+-----+\n",
      "only showing top 20 rows\n",
      "\n"
     ]
    }
   ],
   "source": [
    "df_new.show()"
   ]
  },
  {
   "cell_type": "code",
   "execution_count": 150,
   "id": "1ef5a5f2-1436-4e44-9a50-c5c0f4e1efdf",
   "metadata": {},
   "outputs": [],
   "source": [
    "#Split the data t train and test set\n",
    "train, test = df_new.randomSplit([0.75, 0.25])"
   ]
  },
  {
   "cell_type": "code",
   "execution_count": 152,
   "id": "76a6e027-ea44-4c70-9dda-1e8445cac4e2",
   "metadata": {},
   "outputs": [],
   "source": [
    "#Build and test a binary classification model with Logistic Regression\n",
    "lr = LogisticRegression()\n",
    "lr_model = lr.fit(train)"
   ]
  },
  {
   "cell_type": "code",
   "execution_count": 153,
   "id": "a6fc9787-348b-477a-b3e6-4ec679f72732",
   "metadata": {},
   "outputs": [],
   "source": [
    "#Evaluate the model on the test set \n",
    "\n",
    "model_predictions = lr_model.transform(test)"
   ]
  },
  {
   "cell_type": "code",
   "execution_count": 155,
   "id": "ce2aa973-ee72-4eba-bc14-bd3bf91b1e1b",
   "metadata": {},
   "outputs": [
    {
     "name": "stdout",
     "output_type": "stream",
     "text": [
      "+-----+------------------------------------------+----------+\n",
      "|label|probability                               |prediction|\n",
      "+-----+------------------------------------------+----------+\n",
      "|0    |[0.996000744459765,0.003999255540234947]  |0.0       |\n",
      "|1    |[0.9955227362870526,0.004477263712947432] |0.0       |\n",
      "|0    |[0.9964772622062369,0.003522737793763109] |0.0       |\n",
      "|0    |[0.9963616951017137,0.0036383048982863153]|0.0       |\n",
      "|0    |[0.9962423509939713,0.003757649006028707] |0.0       |\n",
      "|0    |[0.9962119105411723,0.0037880894588276925]|0.0       |\n",
      "|0    |[0.9959918379074197,0.004008162092580259] |0.0       |\n",
      "|0    |[0.9954398294853619,0.004560170514638084] |0.0       |\n",
      "|0    |[0.9722201945341459,0.027779805465854124] |0.0       |\n",
      "|0    |[0.9715564080215768,0.028443591978423166] |0.0       |\n",
      "+-----+------------------------------------------+----------+\n",
      "only showing top 10 rows\n",
      "\n"
     ]
    }
   ],
   "source": [
    "model_predictions.select(['label','probability', 'prediction']).show(10,False)"
   ]
  },
  {
   "cell_type": "code",
   "execution_count": 157,
   "id": "17cb2a35-fcfd-46fc-83eb-27210a71cfbf",
   "metadata": {},
   "outputs": [],
   "source": [
    "#Model evaluation with areaUnderROC metric \n",
    "lr_evaluator = BinaryClassificationEvaluator(metricName='areaUnderROC')"
   ]
  },
  {
   "cell_type": "code",
   "execution_count": 158,
   "id": "aba73b10-3084-4f9b-83c9-2b0b61328b92",
   "metadata": {},
   "outputs": [],
   "source": [
    "lr_auroc = lr_evaluator.evaluate(model_predictions)"
   ]
  },
  {
   "cell_type": "code",
   "execution_count": 159,
   "id": "4fa8e26e-82c6-4894-9904-77ab987b9ecc",
   "metadata": {},
   "outputs": [
    {
     "name": "stdout",
     "output_type": "stream",
     "text": [
      "0.5110503058324896\n"
     ]
    }
   ],
   "source": [
    "print(lr_auroc)"
   ]
  },
  {
   "cell_type": "code",
   "execution_count": 161,
   "id": "f4638076-b34d-444d-aff9-db4c58b08e88",
   "metadata": {},
   "outputs": [],
   "source": [
    "#Build and train binary classifier model using Naive Bayes\n",
    "\n",
    "nb = NaiveBayes()\n",
    "nb_model = nb.fit(train)"
   ]
  },
  {
   "cell_type": "code",
   "execution_count": 162,
   "id": "70a6b864-57a5-49e1-948f-80943e4e91ae",
   "metadata": {},
   "outputs": [],
   "source": [
    "#Predictions\n",
    "model_predictions = nb_model.transform(test)"
   ]
  },
  {
   "cell_type": "code",
   "execution_count": 163,
   "id": "d03c8818-5853-42d5-8d5d-19dc42150fd8",
   "metadata": {},
   "outputs": [
    {
     "name": "stdout",
     "output_type": "stream",
     "text": [
      "+-----+-----------------------------------------+----------+\n",
      "|label|probability                              |prediction|\n",
      "+-----+-----------------------------------------+----------+\n",
      "|0    |[0.9714328683803048,0.028567131619695114]|0.0       |\n",
      "|1    |[0.972559331855972,0.027440668144028044] |0.0       |\n",
      "|0    |[0.9705415154916822,0.029458484508317825]|0.0       |\n",
      "|0    |[0.970877742459704,0.029122257540295918] |0.0       |\n",
      "|0    |[0.9712102457077758,0.02878975429222407] |0.0       |\n",
      "|0    |[0.971292794225895,0.028707205774105085] |0.0       |\n",
      "|0    |[0.9718642353190503,0.028135764680949724]|0.0       |\n",
      "|0    |[0.9731292078454521,0.02687079215454787] |0.0       |\n",
      "|0    |[0.9678541840266542,0.03214581597334577] |0.0       |\n",
      "|0    |[0.9681289844549504,0.03187101554504961] |0.0       |\n",
      "+-----+-----------------------------------------+----------+\n",
      "only showing top 10 rows\n",
      "\n"
     ]
    }
   ],
   "source": [
    "model_predictions.select(['label','probability', 'prediction']).show(10,False)"
   ]
  },
  {
   "cell_type": "code",
   "execution_count": 164,
   "id": "a3850f3b-f734-4ed8-9ffa-7622b7fa1949",
   "metadata": {},
   "outputs": [],
   "source": [
    "#Evaluate Performance on Test Data\n",
    "nb_evaluator = BinaryClassificationEvaluator(metricName='areaUnderROC')\n",
    "nb_auroc = nb_evaluator.evaluate(model_predictions)"
   ]
  },
  {
   "cell_type": "code",
   "execution_count": 165,
   "id": "dfe2c1a6-676f-46d3-b1d6-899bb59feecc",
   "metadata": {},
   "outputs": [
    {
     "name": "stdout",
     "output_type": "stream",
     "text": [
      "0.481662091219958\n"
     ]
    }
   ],
   "source": [
    "print(nb_auroc)"
   ]
  },
  {
   "cell_type": "code",
   "execution_count": null,
   "id": "2ed225a1-1985-4756-9c91-86110fe69a6b",
   "metadata": {},
   "outputs": [],
   "source": []
  }
 ],
 "metadata": {
  "kernelspec": {
   "display_name": "Python 3 (ipykernel)",
   "language": "python",
   "name": "python3"
  },
  "language_info": {
   "codemirror_mode": {
    "name": "ipython",
    "version": 3
   },
   "file_extension": ".py",
   "mimetype": "text/x-python",
   "name": "python",
   "nbconvert_exporter": "python",
   "pygments_lexer": "ipython3",
   "version": "3.10.6"
  }
 },
 "nbformat": 4,
 "nbformat_minor": 5
}
