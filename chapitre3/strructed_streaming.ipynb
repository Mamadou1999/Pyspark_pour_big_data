{
 "cells": [
  {
   "cell_type": "code",
   "execution_count": 1,
   "id": "62ff89a5-32b5-4ec3-af89-76934ee29d43",
   "metadata": {},
   "outputs": [],
   "source": [
    "from pyspark.sql import SparkSession"
   ]
  },
  {
   "cell_type": "code",
   "execution_count": 2,
   "id": "6c34dd22-c786-457a-9b28-75ba97de81d5",
   "metadata": {},
   "outputs": [],
   "source": [
    "spark = SparkSession.builder.appName('structured_streaming').getOrCreate()"
   ]
  },
  {
   "cell_type": "code",
   "execution_count": 3,
   "id": "604a058e-57e9-4a04-89a6-b2d0cdb6bd11",
   "metadata": {},
   "outputs": [],
   "source": [
    "import pyspark.sql.functions as F"
   ]
  },
  {
   "cell_type": "code",
   "execution_count": 4,
   "id": "9bf7a283-15a8-4317-8863-9c681dfbffd0",
   "metadata": {},
   "outputs": [],
   "source": [
    "from pyspark.sql.types import *"
   ]
  },
  {
   "cell_type": "code",
   "execution_count": 11,
   "id": "73f5230f-6901-464e-a237-09ba37d581d2",
   "metadata": {},
   "outputs": [],
   "source": [
    "df_1 = spark.createDataFrame([(\"XN203\",'FB',300,30),(\"XN201\",'Twitter',10,19),(\"XN202\",'Insta',500,45)], \n",
    "                           [\"user_id\",\"app\",\"time_in_secs\",\"age\"]).write.csv(\"csv_folder\",mode='append')"
   ]
  },
  {
   "cell_type": "code",
   "execution_count": 10,
   "id": "275eec4a-30af-42dc-a74b-1c605ab4696c",
   "metadata": {},
   "outputs": [],
   "source": [
    "schema = StructType().add(\"user_id\",\"string\"). add(\"app\",\"string\").add(\"time_in_secs\", \"integer\").add(\"age\", \"integer\")"
   ]
  },
  {
   "cell_type": "code",
   "execution_count": 15,
   "id": "704b076c-948a-4672-a10b-01ae4a9a5eed",
   "metadata": {},
   "outputs": [],
   "source": [
    "data = spark.readStream.option(\"sep\", \",\").schema(schema).csv(\"csv_folder\")"
   ]
  },
  {
   "cell_type": "code",
   "execution_count": 16,
   "id": "a9442bc5-7739-4bf4-b9fb-820a1c984ddc",
   "metadata": {},
   "outputs": [
    {
     "name": "stdout",
     "output_type": "stream",
     "text": [
      "root\n",
      " |-- user_id: string (nullable = true)\n",
      " |-- app: string (nullable = true)\n",
      " |-- time_in_secs: integer (nullable = true)\n",
      " |-- age: integer (nullable = true)\n",
      "\n"
     ]
    }
   ],
   "source": [
    "data.printSchema()"
   ]
  },
  {
   "cell_type": "code",
   "execution_count": 17,
   "id": "f55fbe52-1e63-4be4-b8ed-a349a01f1e31",
   "metadata": {},
   "outputs": [],
   "source": [
    "app_count=data.groupBy('app').count()"
   ]
  },
  {
   "cell_type": "code",
   "execution_count": 21,
   "id": "dd8aa40c-0019-46ee-8954-2d95868e5204",
   "metadata": {},
   "outputs": [],
   "source": [
    "query=(app_count.writeStream.queryName('count_query').outputMode('complete').format('memory').start())"
   ]
  },
  {
   "cell_type": "code",
   "execution_count": 20,
   "id": "7c93227f-1e26-417d-9032-eea47956c1bb",
   "metadata": {},
   "outputs": [
    {
     "data": {
      "text/html": [
       "<div>\n",
       "<style scoped>\n",
       "    .dataframe tbody tr th:only-of-type {\n",
       "        vertical-align: middle;\n",
       "    }\n",
       "\n",
       "    .dataframe tbody tr th {\n",
       "        vertical-align: top;\n",
       "    }\n",
       "\n",
       "    .dataframe thead th {\n",
       "        text-align: right;\n",
       "    }\n",
       "</style>\n",
       "<table border=\"1\" class=\"dataframe\">\n",
       "  <thead>\n",
       "    <tr style=\"text-align: right;\">\n",
       "      <th></th>\n",
       "      <th>app</th>\n",
       "      <th>count</th>\n",
       "    </tr>\n",
       "  </thead>\n",
       "  <tbody>\n",
       "    <tr>\n",
       "      <th>0</th>\n",
       "      <td>Insta</td>\n",
       "      <td>2</td>\n",
       "    </tr>\n",
       "    <tr>\n",
       "      <th>1</th>\n",
       "      <td>FB</td>\n",
       "      <td>2</td>\n",
       "    </tr>\n",
       "    <tr>\n",
       "      <th>2</th>\n",
       "      <td>Twitter</td>\n",
       "      <td>2</td>\n",
       "    </tr>\n",
       "  </tbody>\n",
       "</table>\n",
       "</div>"
      ],
      "text/plain": [
       "       app  count\n",
       "0    Insta      2\n",
       "1       FB      2\n",
       "2  Twitter      2"
      ]
     },
     "execution_count": 20,
     "metadata": {},
     "output_type": "execute_result"
    }
   ],
   "source": [
    "spark.sql(\"select * from count_query \").toPandas().head(5)"
   ]
  },
  {
   "cell_type": "code",
   "execution_count": 22,
   "id": "0d801e3b-9669-4ee4-8d4d-8f22c916d7f3",
   "metadata": {},
   "outputs": [
    {
     "name": "stdout",
     "output_type": "stream",
     "text": [
      "+-------+---------+\n",
      "|    app|full_name|\n",
      "+-------+---------+\n",
      "|     FB| FACEBOOK|\n",
      "|  Insta|INSTAGRAM|\n",
      "|Twitter|  TWITTER|\n",
      "+-------+---------+\n",
      "\n"
     ]
    }
   ],
   "source": [
    "#Join operation \n",
    "\n",
    "app_df=spark.createDataFrame([('FB','FACEBOOK'),('Insta', 'INSTAGRAM'),('Twitter','TWITTER')],[\"app\", \"full_name\"])\n",
    "app_df.show()"
   ]
  },
  {
   "cell_type": "code",
   "execution_count": 23,
   "id": "129a29c0-044b-418e-b5c1-e021345f665e",
   "metadata": {},
   "outputs": [],
   "source": [
    "app_stream_df=data.join(app_df,'app')"
   ]
  },
  {
   "cell_type": "code",
   "execution_count": 24,
   "id": "5bbb5b65-198d-4cb1-a13f-55dc5e1a1ea1",
   "metadata": {},
   "outputs": [],
   "source": [
    "join_query=(app_stream_df.writeStream.queryName('join_query').outputMode('append').format('memory').start())"
   ]
  },
  {
   "cell_type": "code",
   "execution_count": 25,
   "id": "226618a9-66a9-403b-b538-144789d5a8ef",
   "metadata": {},
   "outputs": [
    {
     "data": {
      "text/html": [
       "<div>\n",
       "<style scoped>\n",
       "    .dataframe tbody tr th:only-of-type {\n",
       "        vertical-align: middle;\n",
       "    }\n",
       "\n",
       "    .dataframe tbody tr th {\n",
       "        vertical-align: top;\n",
       "    }\n",
       "\n",
       "    .dataframe thead th {\n",
       "        text-align: right;\n",
       "    }\n",
       "</style>\n",
       "<table border=\"1\" class=\"dataframe\">\n",
       "  <thead>\n",
       "    <tr style=\"text-align: right;\">\n",
       "      <th></th>\n",
       "      <th>app</th>\n",
       "      <th>user_id</th>\n",
       "      <th>time_in_secs</th>\n",
       "      <th>age</th>\n",
       "      <th>full_name</th>\n",
       "    </tr>\n",
       "  </thead>\n",
       "  <tbody>\n",
       "    <tr>\n",
       "      <th>0</th>\n",
       "      <td>FB</td>\n",
       "      <td>XN203</td>\n",
       "      <td>300</td>\n",
       "      <td>30</td>\n",
       "      <td>FACEBOOK</td>\n",
       "    </tr>\n",
       "    <tr>\n",
       "      <th>1</th>\n",
       "      <td>FB</td>\n",
       "      <td>XN203</td>\n",
       "      <td>300</td>\n",
       "      <td>30</td>\n",
       "      <td>FACEBOOK</td>\n",
       "    </tr>\n",
       "    <tr>\n",
       "      <th>2</th>\n",
       "      <td>Insta</td>\n",
       "      <td>XN202</td>\n",
       "      <td>500</td>\n",
       "      <td>45</td>\n",
       "      <td>INSTAGRAM</td>\n",
       "    </tr>\n",
       "    <tr>\n",
       "      <th>3</th>\n",
       "      <td>Insta</td>\n",
       "      <td>XN202</td>\n",
       "      <td>500</td>\n",
       "      <td>45</td>\n",
       "      <td>INSTAGRAM</td>\n",
       "    </tr>\n",
       "    <tr>\n",
       "      <th>4</th>\n",
       "      <td>Twitter</td>\n",
       "      <td>XN201</td>\n",
       "      <td>10</td>\n",
       "      <td>19</td>\n",
       "      <td>TWITTER</td>\n",
       "    </tr>\n",
       "    <tr>\n",
       "      <th>5</th>\n",
       "      <td>Twitter</td>\n",
       "      <td>XN201</td>\n",
       "      <td>10</td>\n",
       "      <td>19</td>\n",
       "      <td>TWITTER</td>\n",
       "    </tr>\n",
       "  </tbody>\n",
       "</table>\n",
       "</div>"
      ],
      "text/plain": [
       "       app user_id  time_in_secs  age  full_name\n",
       "0       FB   XN203           300   30   FACEBOOK\n",
       "1       FB   XN203           300   30   FACEBOOK\n",
       "2    Insta   XN202           500   45  INSTAGRAM\n",
       "3    Insta   XN202           500   45  INSTAGRAM\n",
       "4  Twitter   XN201            10   19    TWITTER\n",
       "5  Twitter   XN201            10   19    TWITTER"
      ]
     },
     "execution_count": 25,
     "metadata": {},
     "output_type": "execute_result"
    }
   ],
   "source": [
    "spark.sql(\"select * from join_query \").toPandas().head(50)"
   ]
  },
  {
   "cell_type": "code",
   "execution_count": null,
   "id": "3ea8a400-5beb-4101-80d2-0d0c9f12ac23",
   "metadata": {},
   "outputs": [],
   "source": []
  }
 ],
 "metadata": {
  "kernelspec": {
   "display_name": "Python 3 (ipykernel)",
   "language": "python",
   "name": "python3"
  },
  "language_info": {
   "codemirror_mode": {
    "name": "ipython",
    "version": 3
   },
   "file_extension": ".py",
   "mimetype": "text/x-python",
   "name": "python",
   "nbconvert_exporter": "python",
   "pygments_lexer": "ipython3",
   "version": "3.10.6"
  }
 },
 "nbformat": 4,
 "nbformat_minor": 5
}
